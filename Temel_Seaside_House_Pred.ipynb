{
  "nbformat": 4,
  "nbformat_minor": 0,
  "metadata": {
    "colab": {
      "provenance": []
    },
    "kernelspec": {
      "name": "python3",
      "display_name": "Python 3"
    },
    "language_info": {
      "name": "python"
    }
  },
  "cells": [
    {
      "cell_type": "markdown",
      "source": [
        "# Imports"
      ],
      "metadata": {
        "id": "QPgcceKO0eGg"
      }
    },
    {
      "cell_type": "code",
      "execution_count": null,
      "metadata": {
        "id": "8-IW0B1BPp-2"
      },
      "outputs": [],
      "source": [
        "import numpy as np\n",
        "import pandas as pd\n",
        "import matplotlib.pyplot as plt\n",
        "import seaborn as sns\n",
        "from sklearn.ensemble import RandomForestClassifier\n",
        "from sklearn.metrics import classification_report, accuracy_score, recall_score, f1_score, confusion_matrix\n",
        "from sklearn.linear_model import LogisticRegression\n",
        "from imblearn.over_sampling import SMOTE\n",
        "from sklearn.model_selection import RandomizedSearchCV, GridSearchCV, train_test_split\n",
        "from xgboost import XGBClassifier\n",
        "from scipy.stats import randint, uniform\n",
        "from google.colab import drive\n",
        "from sklearn.impute import KNNImputer\n",
        "from sklearn.preprocessing import StandardScaler\n",
        "from sklearn.svm import SVC"
      ]
    },
    {
      "cell_type": "code",
      "source": [
        "drive.mount('/content/drive')"
      ],
      "metadata": {
        "colab": {
          "base_uri": "https://localhost:8080/"
        },
        "id": "--LQ-xgtQ5eF",
        "outputId": "653f75af-2ac3-41ca-e226-54da03a27b7d"
      },
      "execution_count": null,
      "outputs": [
        {
          "output_type": "stream",
          "name": "stdout",
          "text": [
            "Drive already mounted at /content/drive; to attempt to forcibly remount, call drive.mount(\"/content/drive\", force_remount=True).\n"
          ]
        }
      ]
    },
    {
      "cell_type": "code",
      "source": [
        "df = pd.read_csv('/content/drive/MyDrive/seaside_house_pred.csv', sep=';', index_col=0)"
      ],
      "metadata": {
        "id": "TKRS-GPDQ_82"
      },
      "execution_count": null,
      "outputs": []
    },
    {
      "cell_type": "markdown",
      "source": [
        "# Dataset Exploration"
      ],
      "metadata": {
        "id": "QWX2sxZi5Zf9"
      }
    },
    {
      "cell_type": "code",
      "source": [
        "df.columns"
      ],
      "metadata": {
        "colab": {
          "base_uri": "https://localhost:8080/"
        },
        "id": "nzeXdt-vT7Em",
        "outputId": "aa54d2fa-a255-449b-96f2-12dbd1968968"
      },
      "execution_count": null,
      "outputs": [
        {
          "output_type": "execute_result",
          "data": {
            "text/plain": [
              "Index(['HOUSING_MEDIAN_AGE', 'TOTAL_ROOMS', 'TOTAL_BEDROOMS', 'POPULATION',\n",
              "       'HOUSEHOLDS', 'MEDIAN_INCOME', 'MEDIAN_HOUSE_VALUE', 'MOISTURE_LEVEL',\n",
              "       'MEDIAN_FLOOR_COUNT', 'TARGET', 'ARCHITECTURAL_STYLE',\n",
              "       'COMMUNITY_ENGAGEMENT'],\n",
              "      dtype='object')"
            ]
          },
          "metadata": {},
          "execution_count": 1423
        }
      ]
    },
    {
      "cell_type": "code",
      "source": [
        "df.columns = [col.lower() for col in df.columns]"
      ],
      "metadata": {
        "id": "VBOAndtOUmcK"
      },
      "execution_count": null,
      "outputs": []
    },
    {
      "cell_type": "code",
      "source": [
        "df.info()"
      ],
      "metadata": {
        "colab": {
          "base_uri": "https://localhost:8080/"
        },
        "id": "DVRJSSQJRjA2",
        "outputId": "12539077-118d-49bb-ddbe-8ff93593057f"
      },
      "execution_count": null,
      "outputs": [
        {
          "output_type": "stream",
          "name": "stdout",
          "text": [
            "<class 'pandas.core.frame.DataFrame'>\n",
            "Index: 20635 entries, 0 to 20634\n",
            "Data columns (total 12 columns):\n",
            " #   Column                Non-Null Count  Dtype  \n",
            "---  ------                --------------  -----  \n",
            " 0   housing_median_age    20635 non-null  float64\n",
            " 1   total_rooms           20635 non-null  float64\n",
            " 2   total_bedrooms        20428 non-null  float64\n",
            " 3   population            20635 non-null  float64\n",
            " 4   households            11312 non-null  float64\n",
            " 5   median_income         20635 non-null  float64\n",
            " 6   median_house_value    20635 non-null  float64\n",
            " 7   moisture_level        20635 non-null  int64  \n",
            " 8   median_floor_count    20635 non-null  float64\n",
            " 9   target                20635 non-null  float64\n",
            " 10  architectural_style   18572 non-null  object \n",
            " 11  community_engagement  16508 non-null  object \n",
            "dtypes: float64(9), int64(1), object(2)\n",
            "memory usage: 2.0+ MB\n"
          ]
        }
      ]
    },
    {
      "cell_type": "code",
      "source": [
        "df.head()"
      ],
      "metadata": {
        "colab": {
          "base_uri": "https://localhost:8080/",
          "height": 258
        },
        "id": "ToiTraioRiTh",
        "outputId": "7ba1aa83-9933-407b-d25f-26723c0f9f21"
      },
      "execution_count": null,
      "outputs": [
        {
          "output_type": "execute_result",
          "data": {
            "text/plain": [
              "    housing_median_age  total_rooms  total_bedrooms  population  households  \\\n",
              "ID                                                                            \n",
              "0                 24.0       3305.0           982.0      2085.0       881.0   \n",
              "1                 26.0       2145.0           369.0      1285.0       377.0   \n",
              "2                 52.0       2113.0           332.0       800.0       327.0   \n",
              "3                 35.0       2828.0           487.0      1439.0       490.0   \n",
              "4                 21.0       3764.0          1081.0      1919.0         NaN   \n",
              "\n",
              "    median_income  median_house_value  moisture_level  median_floor_count  \\\n",
              "ID                                                                          \n",
              "0          2.6641            168200.0              17                1.33   \n",
              "1          4.9464            223800.0              78                1.39   \n",
              "2         11.1768            500001.0              79                1.18   \n",
              "3          5.6013            350200.0              30                1.27   \n",
              "4          2.5057            156300.0              32                1.11   \n",
              "\n",
              "    target architectural_style community_engagement  \n",
              "ID                                                   \n",
              "0      0.0                 NaN                  low  \n",
              "1      1.0            Colonial               medium  \n",
              "2      0.0        Contemporary               medium  \n",
              "3      0.0        Contemporary                 high  \n",
              "4      0.0            Colonial                 high  "
            ],
            "text/html": [
              "\n",
              "  <div id=\"df-caada78d-af82-48f3-b1f7-06f84106986e\" class=\"colab-df-container\">\n",
              "    <div>\n",
              "<style scoped>\n",
              "    .dataframe tbody tr th:only-of-type {\n",
              "        vertical-align: middle;\n",
              "    }\n",
              "\n",
              "    .dataframe tbody tr th {\n",
              "        vertical-align: top;\n",
              "    }\n",
              "\n",
              "    .dataframe thead th {\n",
              "        text-align: right;\n",
              "    }\n",
              "</style>\n",
              "<table border=\"1\" class=\"dataframe\">\n",
              "  <thead>\n",
              "    <tr style=\"text-align: right;\">\n",
              "      <th></th>\n",
              "      <th>housing_median_age</th>\n",
              "      <th>total_rooms</th>\n",
              "      <th>total_bedrooms</th>\n",
              "      <th>population</th>\n",
              "      <th>households</th>\n",
              "      <th>median_income</th>\n",
              "      <th>median_house_value</th>\n",
              "      <th>moisture_level</th>\n",
              "      <th>median_floor_count</th>\n",
              "      <th>target</th>\n",
              "      <th>architectural_style</th>\n",
              "      <th>community_engagement</th>\n",
              "    </tr>\n",
              "    <tr>\n",
              "      <th>ID</th>\n",
              "      <th></th>\n",
              "      <th></th>\n",
              "      <th></th>\n",
              "      <th></th>\n",
              "      <th></th>\n",
              "      <th></th>\n",
              "      <th></th>\n",
              "      <th></th>\n",
              "      <th></th>\n",
              "      <th></th>\n",
              "      <th></th>\n",
              "      <th></th>\n",
              "    </tr>\n",
              "  </thead>\n",
              "  <tbody>\n",
              "    <tr>\n",
              "      <th>0</th>\n",
              "      <td>24.0</td>\n",
              "      <td>3305.0</td>\n",
              "      <td>982.0</td>\n",
              "      <td>2085.0</td>\n",
              "      <td>881.0</td>\n",
              "      <td>2.6641</td>\n",
              "      <td>168200.0</td>\n",
              "      <td>17</td>\n",
              "      <td>1.33</td>\n",
              "      <td>0.0</td>\n",
              "      <td>NaN</td>\n",
              "      <td>low</td>\n",
              "    </tr>\n",
              "    <tr>\n",
              "      <th>1</th>\n",
              "      <td>26.0</td>\n",
              "      <td>2145.0</td>\n",
              "      <td>369.0</td>\n",
              "      <td>1285.0</td>\n",
              "      <td>377.0</td>\n",
              "      <td>4.9464</td>\n",
              "      <td>223800.0</td>\n",
              "      <td>78</td>\n",
              "      <td>1.39</td>\n",
              "      <td>1.0</td>\n",
              "      <td>Colonial</td>\n",
              "      <td>medium</td>\n",
              "    </tr>\n",
              "    <tr>\n",
              "      <th>2</th>\n",
              "      <td>52.0</td>\n",
              "      <td>2113.0</td>\n",
              "      <td>332.0</td>\n",
              "      <td>800.0</td>\n",
              "      <td>327.0</td>\n",
              "      <td>11.1768</td>\n",
              "      <td>500001.0</td>\n",
              "      <td>79</td>\n",
              "      <td>1.18</td>\n",
              "      <td>0.0</td>\n",
              "      <td>Contemporary</td>\n",
              "      <td>medium</td>\n",
              "    </tr>\n",
              "    <tr>\n",
              "      <th>3</th>\n",
              "      <td>35.0</td>\n",
              "      <td>2828.0</td>\n",
              "      <td>487.0</td>\n",
              "      <td>1439.0</td>\n",
              "      <td>490.0</td>\n",
              "      <td>5.6013</td>\n",
              "      <td>350200.0</td>\n",
              "      <td>30</td>\n",
              "      <td>1.27</td>\n",
              "      <td>0.0</td>\n",
              "      <td>Contemporary</td>\n",
              "      <td>high</td>\n",
              "    </tr>\n",
              "    <tr>\n",
              "      <th>4</th>\n",
              "      <td>21.0</td>\n",
              "      <td>3764.0</td>\n",
              "      <td>1081.0</td>\n",
              "      <td>1919.0</td>\n",
              "      <td>NaN</td>\n",
              "      <td>2.5057</td>\n",
              "      <td>156300.0</td>\n",
              "      <td>32</td>\n",
              "      <td>1.11</td>\n",
              "      <td>0.0</td>\n",
              "      <td>Colonial</td>\n",
              "      <td>high</td>\n",
              "    </tr>\n",
              "  </tbody>\n",
              "</table>\n",
              "</div>\n",
              "    <div class=\"colab-df-buttons\">\n",
              "\n",
              "  <div class=\"colab-df-container\">\n",
              "    <button class=\"colab-df-convert\" onclick=\"convertToInteractive('df-caada78d-af82-48f3-b1f7-06f84106986e')\"\n",
              "            title=\"Convert this dataframe to an interactive table.\"\n",
              "            style=\"display:none;\">\n",
              "\n",
              "  <svg xmlns=\"http://www.w3.org/2000/svg\" height=\"24px\" viewBox=\"0 -960 960 960\">\n",
              "    <path d=\"M120-120v-720h720v720H120Zm60-500h600v-160H180v160Zm220 220h160v-160H400v160Zm0 220h160v-160H400v160ZM180-400h160v-160H180v160Zm440 0h160v-160H620v160ZM180-180h160v-160H180v160Zm440 0h160v-160H620v160Z\"/>\n",
              "  </svg>\n",
              "    </button>\n",
              "\n",
              "  <style>\n",
              "    .colab-df-container {\n",
              "      display:flex;\n",
              "      gap: 12px;\n",
              "    }\n",
              "\n",
              "    .colab-df-convert {\n",
              "      background-color: #E8F0FE;\n",
              "      border: none;\n",
              "      border-radius: 50%;\n",
              "      cursor: pointer;\n",
              "      display: none;\n",
              "      fill: #1967D2;\n",
              "      height: 32px;\n",
              "      padding: 0 0 0 0;\n",
              "      width: 32px;\n",
              "    }\n",
              "\n",
              "    .colab-df-convert:hover {\n",
              "      background-color: #E2EBFA;\n",
              "      box-shadow: 0px 1px 2px rgba(60, 64, 67, 0.3), 0px 1px 3px 1px rgba(60, 64, 67, 0.15);\n",
              "      fill: #174EA6;\n",
              "    }\n",
              "\n",
              "    .colab-df-buttons div {\n",
              "      margin-bottom: 4px;\n",
              "    }\n",
              "\n",
              "    [theme=dark] .colab-df-convert {\n",
              "      background-color: #3B4455;\n",
              "      fill: #D2E3FC;\n",
              "    }\n",
              "\n",
              "    [theme=dark] .colab-df-convert:hover {\n",
              "      background-color: #434B5C;\n",
              "      box-shadow: 0px 1px 3px 1px rgba(0, 0, 0, 0.15);\n",
              "      filter: drop-shadow(0px 1px 2px rgba(0, 0, 0, 0.3));\n",
              "      fill: #FFFFFF;\n",
              "    }\n",
              "  </style>\n",
              "\n",
              "    <script>\n",
              "      const buttonEl =\n",
              "        document.querySelector('#df-caada78d-af82-48f3-b1f7-06f84106986e button.colab-df-convert');\n",
              "      buttonEl.style.display =\n",
              "        google.colab.kernel.accessAllowed ? 'block' : 'none';\n",
              "\n",
              "      async function convertToInteractive(key) {\n",
              "        const element = document.querySelector('#df-caada78d-af82-48f3-b1f7-06f84106986e');\n",
              "        const dataTable =\n",
              "          await google.colab.kernel.invokeFunction('convertToInteractive',\n",
              "                                                    [key], {});\n",
              "        if (!dataTable) return;\n",
              "\n",
              "        const docLinkHtml = 'Like what you see? Visit the ' +\n",
              "          '<a target=\"_blank\" href=https://colab.research.google.com/notebooks/data_table.ipynb>data table notebook</a>'\n",
              "          + ' to learn more about interactive tables.';\n",
              "        element.innerHTML = '';\n",
              "        dataTable['output_type'] = 'display_data';\n",
              "        await google.colab.output.renderOutput(dataTable, element);\n",
              "        const docLink = document.createElement('div');\n",
              "        docLink.innerHTML = docLinkHtml;\n",
              "        element.appendChild(docLink);\n",
              "      }\n",
              "    </script>\n",
              "  </div>\n",
              "\n",
              "\n",
              "<div id=\"df-590241d8-d017-47ca-a2eb-9a1cf4b277b4\">\n",
              "  <button class=\"colab-df-quickchart\" onclick=\"quickchart('df-590241d8-d017-47ca-a2eb-9a1cf4b277b4')\"\n",
              "            title=\"Suggest charts\"\n",
              "            style=\"display:none;\">\n",
              "\n",
              "<svg xmlns=\"http://www.w3.org/2000/svg\" height=\"24px\"viewBox=\"0 0 24 24\"\n",
              "     width=\"24px\">\n",
              "    <g>\n",
              "        <path d=\"M19 3H5c-1.1 0-2 .9-2 2v14c0 1.1.9 2 2 2h14c1.1 0 2-.9 2-2V5c0-1.1-.9-2-2-2zM9 17H7v-7h2v7zm4 0h-2V7h2v10zm4 0h-2v-4h2v4z\"/>\n",
              "    </g>\n",
              "</svg>\n",
              "  </button>\n",
              "\n",
              "<style>\n",
              "  .colab-df-quickchart {\n",
              "      --bg-color: #E8F0FE;\n",
              "      --fill-color: #1967D2;\n",
              "      --hover-bg-color: #E2EBFA;\n",
              "      --hover-fill-color: #174EA6;\n",
              "      --disabled-fill-color: #AAA;\n",
              "      --disabled-bg-color: #DDD;\n",
              "  }\n",
              "\n",
              "  [theme=dark] .colab-df-quickchart {\n",
              "      --bg-color: #3B4455;\n",
              "      --fill-color: #D2E3FC;\n",
              "      --hover-bg-color: #434B5C;\n",
              "      --hover-fill-color: #FFFFFF;\n",
              "      --disabled-bg-color: #3B4455;\n",
              "      --disabled-fill-color: #666;\n",
              "  }\n",
              "\n",
              "  .colab-df-quickchart {\n",
              "    background-color: var(--bg-color);\n",
              "    border: none;\n",
              "    border-radius: 50%;\n",
              "    cursor: pointer;\n",
              "    display: none;\n",
              "    fill: var(--fill-color);\n",
              "    height: 32px;\n",
              "    padding: 0;\n",
              "    width: 32px;\n",
              "  }\n",
              "\n",
              "  .colab-df-quickchart:hover {\n",
              "    background-color: var(--hover-bg-color);\n",
              "    box-shadow: 0 1px 2px rgba(60, 64, 67, 0.3), 0 1px 3px 1px rgba(60, 64, 67, 0.15);\n",
              "    fill: var(--button-hover-fill-color);\n",
              "  }\n",
              "\n",
              "  .colab-df-quickchart-complete:disabled,\n",
              "  .colab-df-quickchart-complete:disabled:hover {\n",
              "    background-color: var(--disabled-bg-color);\n",
              "    fill: var(--disabled-fill-color);\n",
              "    box-shadow: none;\n",
              "  }\n",
              "\n",
              "  .colab-df-spinner {\n",
              "    border: 2px solid var(--fill-color);\n",
              "    border-color: transparent;\n",
              "    border-bottom-color: var(--fill-color);\n",
              "    animation:\n",
              "      spin 1s steps(1) infinite;\n",
              "  }\n",
              "\n",
              "  @keyframes spin {\n",
              "    0% {\n",
              "      border-color: transparent;\n",
              "      border-bottom-color: var(--fill-color);\n",
              "      border-left-color: var(--fill-color);\n",
              "    }\n",
              "    20% {\n",
              "      border-color: transparent;\n",
              "      border-left-color: var(--fill-color);\n",
              "      border-top-color: var(--fill-color);\n",
              "    }\n",
              "    30% {\n",
              "      border-color: transparent;\n",
              "      border-left-color: var(--fill-color);\n",
              "      border-top-color: var(--fill-color);\n",
              "      border-right-color: var(--fill-color);\n",
              "    }\n",
              "    40% {\n",
              "      border-color: transparent;\n",
              "      border-right-color: var(--fill-color);\n",
              "      border-top-color: var(--fill-color);\n",
              "    }\n",
              "    60% {\n",
              "      border-color: transparent;\n",
              "      border-right-color: var(--fill-color);\n",
              "    }\n",
              "    80% {\n",
              "      border-color: transparent;\n",
              "      border-right-color: var(--fill-color);\n",
              "      border-bottom-color: var(--fill-color);\n",
              "    }\n",
              "    90% {\n",
              "      border-color: transparent;\n",
              "      border-bottom-color: var(--fill-color);\n",
              "    }\n",
              "  }\n",
              "</style>\n",
              "\n",
              "  <script>\n",
              "    async function quickchart(key) {\n",
              "      const quickchartButtonEl =\n",
              "        document.querySelector('#' + key + ' button');\n",
              "      quickchartButtonEl.disabled = true;  // To prevent multiple clicks.\n",
              "      quickchartButtonEl.classList.add('colab-df-spinner');\n",
              "      try {\n",
              "        const charts = await google.colab.kernel.invokeFunction(\n",
              "            'suggestCharts', [key], {});\n",
              "      } catch (error) {\n",
              "        console.error('Error during call to suggestCharts:', error);\n",
              "      }\n",
              "      quickchartButtonEl.classList.remove('colab-df-spinner');\n",
              "      quickchartButtonEl.classList.add('colab-df-quickchart-complete');\n",
              "    }\n",
              "    (() => {\n",
              "      let quickchartButtonEl =\n",
              "        document.querySelector('#df-590241d8-d017-47ca-a2eb-9a1cf4b277b4 button');\n",
              "      quickchartButtonEl.style.display =\n",
              "        google.colab.kernel.accessAllowed ? 'block' : 'none';\n",
              "    })();\n",
              "  </script>\n",
              "</div>\n",
              "\n",
              "    </div>\n",
              "  </div>\n"
            ],
            "application/vnd.google.colaboratory.intrinsic+json": {
              "type": "dataframe",
              "variable_name": "df",
              "summary": "{\n  \"name\": \"df\",\n  \"rows\": 20635,\n  \"fields\": [\n    {\n      \"column\": \"ID\",\n      \"properties\": {\n        \"dtype\": \"number\",\n        \"std\": 5956,\n        \"min\": 0,\n        \"max\": 20634,\n        \"num_unique_values\": 20635,\n        \"samples\": [\n          8570,\n          1712,\n          15912\n        ],\n        \"semantic_type\": \"\",\n        \"description\": \"\"\n      }\n    },\n    {\n      \"column\": \"housing_median_age\",\n      \"properties\": {\n        \"dtype\": \"number\",\n        \"std\": 12.58392439458625,\n        \"min\": 1.0,\n        \"max\": 52.0,\n        \"num_unique_values\": 52,\n        \"samples\": [\n          47.0,\n          38.0,\n          42.0\n        ],\n        \"semantic_type\": \"\",\n        \"description\": \"\"\n      }\n    },\n    {\n      \"column\": \"total_rooms\",\n      \"properties\": {\n        \"dtype\": \"number\",\n        \"std\": 2181.794771947181,\n        \"min\": 2.0,\n        \"max\": 39320.0,\n        \"num_unique_values\": 5926,\n        \"samples\": [\n          173.0,\n          819.0,\n          605.0\n        ],\n        \"semantic_type\": \"\",\n        \"description\": \"\"\n      }\n    },\n    {\n      \"column\": \"total_bedrooms\",\n      \"properties\": {\n        \"dtype\": \"number\",\n        \"std\": 421.42596993517964,\n        \"min\": 1.0,\n        \"max\": 6445.0,\n        \"num_unique_values\": 1923,\n        \"samples\": [\n          821.0,\n          1621.0,\n          2010.0\n        ],\n        \"semantic_type\": \"\",\n        \"description\": \"\"\n      }\n    },\n    {\n      \"column\": \"population\",\n      \"properties\": {\n        \"dtype\": \"number\",\n        \"std\": 1132.5301366197968,\n        \"min\": 3.0,\n        \"max\": 35682.0,\n        \"num_unique_values\": 3888,\n        \"samples\": [\n          4870.0,\n          331.0,\n          628.0\n        ],\n        \"semantic_type\": \"\",\n        \"description\": \"\"\n      }\n    },\n    {\n      \"column\": \"households\",\n      \"properties\": {\n        \"dtype\": \"number\",\n        \"std\": 392.38060308720173,\n        \"min\": 2.0,\n        \"max\": 6082.0,\n        \"num_unique_values\": 1562,\n        \"samples\": [\n          1165.0,\n          914.0,\n          1021.0\n        ],\n        \"semantic_type\": \"\",\n        \"description\": \"\"\n      }\n    },\n    {\n      \"column\": \"median_income\",\n      \"properties\": {\n        \"dtype\": \"number\",\n        \"std\": 1.8999609147349834,\n        \"min\": 0.4999,\n        \"max\": 15.0001,\n        \"num_unique_values\": 12927,\n        \"samples\": [\n          4.2564,\n          3.6006,\n          4.0435\n        ],\n        \"semantic_type\": \"\",\n        \"description\": \"\"\n      }\n    },\n    {\n      \"column\": \"median_house_value\",\n      \"properties\": {\n        \"dtype\": \"number\",\n        \"std\": 115372.49951063369,\n        \"min\": 14999.0,\n        \"max\": 500001.0,\n        \"num_unique_values\": 3842,\n        \"samples\": [\n          195200.0,\n          112700.0,\n          257900.0\n        ],\n        \"semantic_type\": \"\",\n        \"description\": \"\"\n      }\n    },\n    {\n      \"column\": \"moisture_level\",\n      \"properties\": {\n        \"dtype\": \"number\",\n        \"std\": 25,\n        \"min\": 0,\n        \"max\": 100,\n        \"num_unique_values\": 101,\n        \"samples\": [\n          99,\n          75,\n          2\n        ],\n        \"semantic_type\": \"\",\n        \"description\": \"\"\n      }\n    },\n    {\n      \"column\": \"median_floor_count\",\n      \"properties\": {\n        \"dtype\": \"number\",\n        \"std\": 0.21921163090814022,\n        \"min\": 1.0,\n        \"max\": 2.0,\n        \"num_unique_values\": 101,\n        \"samples\": [\n          1.74,\n          1.65,\n          1.01\n        ],\n        \"semantic_type\": \"\",\n        \"description\": \"\"\n      }\n    },\n    {\n      \"column\": \"target\",\n      \"properties\": {\n        \"dtype\": \"number\",\n        \"std\": 0.42696359254931354,\n        \"min\": 0.0,\n        \"max\": 1.0,\n        \"num_unique_values\": 2,\n        \"samples\": [\n          1.0,\n          0.0\n        ],\n        \"semantic_type\": \"\",\n        \"description\": \"\"\n      }\n    },\n    {\n      \"column\": \"architectural_style\",\n      \"properties\": {\n        \"dtype\": \"category\",\n        \"num_unique_values\": 5,\n        \"samples\": [\n          \"Contemporary\",\n          \"Mediterranean\"\n        ],\n        \"semantic_type\": \"\",\n        \"description\": \"\"\n      }\n    },\n    {\n      \"column\": \"community_engagement\",\n      \"properties\": {\n        \"dtype\": \"category\",\n        \"num_unique_values\": 3,\n        \"samples\": [\n          \"low\",\n          \"medium\"\n        ],\n        \"semantic_type\": \"\",\n        \"description\": \"\"\n      }\n    }\n  ]\n}"
            }
          },
          "metadata": {},
          "execution_count": 1426
        }
      ]
    },
    {
      "cell_type": "markdown",
      "source": [
        "# Exploratory Data Analysis"
      ],
      "metadata": {
        "id": "-ScvzUsr0riY"
      }
    },
    {
      "cell_type": "code",
      "source": [
        "df.describe()"
      ],
      "metadata": {
        "colab": {
          "base_uri": "https://localhost:8080/",
          "height": 320
        },
        "id": "zkCmLk0mSnIx",
        "outputId": "9b1154aa-2739-45c0-c63b-f3050fa60cfc"
      },
      "execution_count": null,
      "outputs": [
        {
          "output_type": "execute_result",
          "data": {
            "text/plain": [
              "       housing_median_age   total_rooms  total_bedrooms    population  \\\n",
              "count        20635.000000  20635.000000    20428.000000  20635.000000   \n",
              "mean            28.636152   2636.020208      537.899305   1425.660286   \n",
              "std             12.583924   2181.794772      421.425970   1132.530137   \n",
              "min              1.000000      2.000000        1.000000      3.000000   \n",
              "25%             18.000000   1448.000000      296.000000    787.000000   \n",
              "50%             29.000000   2127.000000      435.000000   1166.000000   \n",
              "75%             37.000000   3148.000000      647.000000   1725.000000   \n",
              "max             52.000000  39320.000000     6445.000000  35682.000000   \n",
              "\n",
              "         households  median_income  median_house_value  moisture_level  \\\n",
              "count  11312.000000   20635.000000        20635.000000    20635.000000   \n",
              "mean     504.329120       3.870944       206813.756288       47.251708   \n",
              "std      392.380603       1.899961       115372.499511       25.600932   \n",
              "min        2.000000       0.499900        14999.000000        0.000000   \n",
              "25%      282.000000       2.563100       119600.000000       26.000000   \n",
              "50%      412.000000       3.535200       179700.000000       49.000000   \n",
              "75%      609.000000       4.743700       264700.000000       68.000000   \n",
              "max     6082.000000      15.000100       500001.000000      100.000000   \n",
              "\n",
              "       median_floor_count        target  \n",
              "count        20635.000000  20635.000000  \n",
              "mean             1.312169      0.239787  \n",
              "std              0.219212      0.426964  \n",
              "min              1.000000      0.000000  \n",
              "25%              1.140000      0.000000  \n",
              "50%              1.290000      0.000000  \n",
              "75%              1.430000      0.000000  \n",
              "max              2.000000      1.000000  "
            ],
            "text/html": [
              "\n",
              "  <div id=\"df-98708528-27eb-4717-b85a-8ee4252ab268\" class=\"colab-df-container\">\n",
              "    <div>\n",
              "<style scoped>\n",
              "    .dataframe tbody tr th:only-of-type {\n",
              "        vertical-align: middle;\n",
              "    }\n",
              "\n",
              "    .dataframe tbody tr th {\n",
              "        vertical-align: top;\n",
              "    }\n",
              "\n",
              "    .dataframe thead th {\n",
              "        text-align: right;\n",
              "    }\n",
              "</style>\n",
              "<table border=\"1\" class=\"dataframe\">\n",
              "  <thead>\n",
              "    <tr style=\"text-align: right;\">\n",
              "      <th></th>\n",
              "      <th>housing_median_age</th>\n",
              "      <th>total_rooms</th>\n",
              "      <th>total_bedrooms</th>\n",
              "      <th>population</th>\n",
              "      <th>households</th>\n",
              "      <th>median_income</th>\n",
              "      <th>median_house_value</th>\n",
              "      <th>moisture_level</th>\n",
              "      <th>median_floor_count</th>\n",
              "      <th>target</th>\n",
              "    </tr>\n",
              "  </thead>\n",
              "  <tbody>\n",
              "    <tr>\n",
              "      <th>count</th>\n",
              "      <td>20635.000000</td>\n",
              "      <td>20635.000000</td>\n",
              "      <td>20428.000000</td>\n",
              "      <td>20635.000000</td>\n",
              "      <td>11312.000000</td>\n",
              "      <td>20635.000000</td>\n",
              "      <td>20635.000000</td>\n",
              "      <td>20635.000000</td>\n",
              "      <td>20635.000000</td>\n",
              "      <td>20635.000000</td>\n",
              "    </tr>\n",
              "    <tr>\n",
              "      <th>mean</th>\n",
              "      <td>28.636152</td>\n",
              "      <td>2636.020208</td>\n",
              "      <td>537.899305</td>\n",
              "      <td>1425.660286</td>\n",
              "      <td>504.329120</td>\n",
              "      <td>3.870944</td>\n",
              "      <td>206813.756288</td>\n",
              "      <td>47.251708</td>\n",
              "      <td>1.312169</td>\n",
              "      <td>0.239787</td>\n",
              "    </tr>\n",
              "    <tr>\n",
              "      <th>std</th>\n",
              "      <td>12.583924</td>\n",
              "      <td>2181.794772</td>\n",
              "      <td>421.425970</td>\n",
              "      <td>1132.530137</td>\n",
              "      <td>392.380603</td>\n",
              "      <td>1.899961</td>\n",
              "      <td>115372.499511</td>\n",
              "      <td>25.600932</td>\n",
              "      <td>0.219212</td>\n",
              "      <td>0.426964</td>\n",
              "    </tr>\n",
              "    <tr>\n",
              "      <th>min</th>\n",
              "      <td>1.000000</td>\n",
              "      <td>2.000000</td>\n",
              "      <td>1.000000</td>\n",
              "      <td>3.000000</td>\n",
              "      <td>2.000000</td>\n",
              "      <td>0.499900</td>\n",
              "      <td>14999.000000</td>\n",
              "      <td>0.000000</td>\n",
              "      <td>1.000000</td>\n",
              "      <td>0.000000</td>\n",
              "    </tr>\n",
              "    <tr>\n",
              "      <th>25%</th>\n",
              "      <td>18.000000</td>\n",
              "      <td>1448.000000</td>\n",
              "      <td>296.000000</td>\n",
              "      <td>787.000000</td>\n",
              "      <td>282.000000</td>\n",
              "      <td>2.563100</td>\n",
              "      <td>119600.000000</td>\n",
              "      <td>26.000000</td>\n",
              "      <td>1.140000</td>\n",
              "      <td>0.000000</td>\n",
              "    </tr>\n",
              "    <tr>\n",
              "      <th>50%</th>\n",
              "      <td>29.000000</td>\n",
              "      <td>2127.000000</td>\n",
              "      <td>435.000000</td>\n",
              "      <td>1166.000000</td>\n",
              "      <td>412.000000</td>\n",
              "      <td>3.535200</td>\n",
              "      <td>179700.000000</td>\n",
              "      <td>49.000000</td>\n",
              "      <td>1.290000</td>\n",
              "      <td>0.000000</td>\n",
              "    </tr>\n",
              "    <tr>\n",
              "      <th>75%</th>\n",
              "      <td>37.000000</td>\n",
              "      <td>3148.000000</td>\n",
              "      <td>647.000000</td>\n",
              "      <td>1725.000000</td>\n",
              "      <td>609.000000</td>\n",
              "      <td>4.743700</td>\n",
              "      <td>264700.000000</td>\n",
              "      <td>68.000000</td>\n",
              "      <td>1.430000</td>\n",
              "      <td>0.000000</td>\n",
              "    </tr>\n",
              "    <tr>\n",
              "      <th>max</th>\n",
              "      <td>52.000000</td>\n",
              "      <td>39320.000000</td>\n",
              "      <td>6445.000000</td>\n",
              "      <td>35682.000000</td>\n",
              "      <td>6082.000000</td>\n",
              "      <td>15.000100</td>\n",
              "      <td>500001.000000</td>\n",
              "      <td>100.000000</td>\n",
              "      <td>2.000000</td>\n",
              "      <td>1.000000</td>\n",
              "    </tr>\n",
              "  </tbody>\n",
              "</table>\n",
              "</div>\n",
              "    <div class=\"colab-df-buttons\">\n",
              "\n",
              "  <div class=\"colab-df-container\">\n",
              "    <button class=\"colab-df-convert\" onclick=\"convertToInteractive('df-98708528-27eb-4717-b85a-8ee4252ab268')\"\n",
              "            title=\"Convert this dataframe to an interactive table.\"\n",
              "            style=\"display:none;\">\n",
              "\n",
              "  <svg xmlns=\"http://www.w3.org/2000/svg\" height=\"24px\" viewBox=\"0 -960 960 960\">\n",
              "    <path d=\"M120-120v-720h720v720H120Zm60-500h600v-160H180v160Zm220 220h160v-160H400v160Zm0 220h160v-160H400v160ZM180-400h160v-160H180v160Zm440 0h160v-160H620v160ZM180-180h160v-160H180v160Zm440 0h160v-160H620v160Z\"/>\n",
              "  </svg>\n",
              "    </button>\n",
              "\n",
              "  <style>\n",
              "    .colab-df-container {\n",
              "      display:flex;\n",
              "      gap: 12px;\n",
              "    }\n",
              "\n",
              "    .colab-df-convert {\n",
              "      background-color: #E8F0FE;\n",
              "      border: none;\n",
              "      border-radius: 50%;\n",
              "      cursor: pointer;\n",
              "      display: none;\n",
              "      fill: #1967D2;\n",
              "      height: 32px;\n",
              "      padding: 0 0 0 0;\n",
              "      width: 32px;\n",
              "    }\n",
              "\n",
              "    .colab-df-convert:hover {\n",
              "      background-color: #E2EBFA;\n",
              "      box-shadow: 0px 1px 2px rgba(60, 64, 67, 0.3), 0px 1px 3px 1px rgba(60, 64, 67, 0.15);\n",
              "      fill: #174EA6;\n",
              "    }\n",
              "\n",
              "    .colab-df-buttons div {\n",
              "      margin-bottom: 4px;\n",
              "    }\n",
              "\n",
              "    [theme=dark] .colab-df-convert {\n",
              "      background-color: #3B4455;\n",
              "      fill: #D2E3FC;\n",
              "    }\n",
              "\n",
              "    [theme=dark] .colab-df-convert:hover {\n",
              "      background-color: #434B5C;\n",
              "      box-shadow: 0px 1px 3px 1px rgba(0, 0, 0, 0.15);\n",
              "      filter: drop-shadow(0px 1px 2px rgba(0, 0, 0, 0.3));\n",
              "      fill: #FFFFFF;\n",
              "    }\n",
              "  </style>\n",
              "\n",
              "    <script>\n",
              "      const buttonEl =\n",
              "        document.querySelector('#df-98708528-27eb-4717-b85a-8ee4252ab268 button.colab-df-convert');\n",
              "      buttonEl.style.display =\n",
              "        google.colab.kernel.accessAllowed ? 'block' : 'none';\n",
              "\n",
              "      async function convertToInteractive(key) {\n",
              "        const element = document.querySelector('#df-98708528-27eb-4717-b85a-8ee4252ab268');\n",
              "        const dataTable =\n",
              "          await google.colab.kernel.invokeFunction('convertToInteractive',\n",
              "                                                    [key], {});\n",
              "        if (!dataTable) return;\n",
              "\n",
              "        const docLinkHtml = 'Like what you see? Visit the ' +\n",
              "          '<a target=\"_blank\" href=https://colab.research.google.com/notebooks/data_table.ipynb>data table notebook</a>'\n",
              "          + ' to learn more about interactive tables.';\n",
              "        element.innerHTML = '';\n",
              "        dataTable['output_type'] = 'display_data';\n",
              "        await google.colab.output.renderOutput(dataTable, element);\n",
              "        const docLink = document.createElement('div');\n",
              "        docLink.innerHTML = docLinkHtml;\n",
              "        element.appendChild(docLink);\n",
              "      }\n",
              "    </script>\n",
              "  </div>\n",
              "\n",
              "\n",
              "<div id=\"df-2469ff28-f580-4bae-9a1a-5b19f3225a1b\">\n",
              "  <button class=\"colab-df-quickchart\" onclick=\"quickchart('df-2469ff28-f580-4bae-9a1a-5b19f3225a1b')\"\n",
              "            title=\"Suggest charts\"\n",
              "            style=\"display:none;\">\n",
              "\n",
              "<svg xmlns=\"http://www.w3.org/2000/svg\" height=\"24px\"viewBox=\"0 0 24 24\"\n",
              "     width=\"24px\">\n",
              "    <g>\n",
              "        <path d=\"M19 3H5c-1.1 0-2 .9-2 2v14c0 1.1.9 2 2 2h14c1.1 0 2-.9 2-2V5c0-1.1-.9-2-2-2zM9 17H7v-7h2v7zm4 0h-2V7h2v10zm4 0h-2v-4h2v4z\"/>\n",
              "    </g>\n",
              "</svg>\n",
              "  </button>\n",
              "\n",
              "<style>\n",
              "  .colab-df-quickchart {\n",
              "      --bg-color: #E8F0FE;\n",
              "      --fill-color: #1967D2;\n",
              "      --hover-bg-color: #E2EBFA;\n",
              "      --hover-fill-color: #174EA6;\n",
              "      --disabled-fill-color: #AAA;\n",
              "      --disabled-bg-color: #DDD;\n",
              "  }\n",
              "\n",
              "  [theme=dark] .colab-df-quickchart {\n",
              "      --bg-color: #3B4455;\n",
              "      --fill-color: #D2E3FC;\n",
              "      --hover-bg-color: #434B5C;\n",
              "      --hover-fill-color: #FFFFFF;\n",
              "      --disabled-bg-color: #3B4455;\n",
              "      --disabled-fill-color: #666;\n",
              "  }\n",
              "\n",
              "  .colab-df-quickchart {\n",
              "    background-color: var(--bg-color);\n",
              "    border: none;\n",
              "    border-radius: 50%;\n",
              "    cursor: pointer;\n",
              "    display: none;\n",
              "    fill: var(--fill-color);\n",
              "    height: 32px;\n",
              "    padding: 0;\n",
              "    width: 32px;\n",
              "  }\n",
              "\n",
              "  .colab-df-quickchart:hover {\n",
              "    background-color: var(--hover-bg-color);\n",
              "    box-shadow: 0 1px 2px rgba(60, 64, 67, 0.3), 0 1px 3px 1px rgba(60, 64, 67, 0.15);\n",
              "    fill: var(--button-hover-fill-color);\n",
              "  }\n",
              "\n",
              "  .colab-df-quickchart-complete:disabled,\n",
              "  .colab-df-quickchart-complete:disabled:hover {\n",
              "    background-color: var(--disabled-bg-color);\n",
              "    fill: var(--disabled-fill-color);\n",
              "    box-shadow: none;\n",
              "  }\n",
              "\n",
              "  .colab-df-spinner {\n",
              "    border: 2px solid var(--fill-color);\n",
              "    border-color: transparent;\n",
              "    border-bottom-color: var(--fill-color);\n",
              "    animation:\n",
              "      spin 1s steps(1) infinite;\n",
              "  }\n",
              "\n",
              "  @keyframes spin {\n",
              "    0% {\n",
              "      border-color: transparent;\n",
              "      border-bottom-color: var(--fill-color);\n",
              "      border-left-color: var(--fill-color);\n",
              "    }\n",
              "    20% {\n",
              "      border-color: transparent;\n",
              "      border-left-color: var(--fill-color);\n",
              "      border-top-color: var(--fill-color);\n",
              "    }\n",
              "    30% {\n",
              "      border-color: transparent;\n",
              "      border-left-color: var(--fill-color);\n",
              "      border-top-color: var(--fill-color);\n",
              "      border-right-color: var(--fill-color);\n",
              "    }\n",
              "    40% {\n",
              "      border-color: transparent;\n",
              "      border-right-color: var(--fill-color);\n",
              "      border-top-color: var(--fill-color);\n",
              "    }\n",
              "    60% {\n",
              "      border-color: transparent;\n",
              "      border-right-color: var(--fill-color);\n",
              "    }\n",
              "    80% {\n",
              "      border-color: transparent;\n",
              "      border-right-color: var(--fill-color);\n",
              "      border-bottom-color: var(--fill-color);\n",
              "    }\n",
              "    90% {\n",
              "      border-color: transparent;\n",
              "      border-bottom-color: var(--fill-color);\n",
              "    }\n",
              "  }\n",
              "</style>\n",
              "\n",
              "  <script>\n",
              "    async function quickchart(key) {\n",
              "      const quickchartButtonEl =\n",
              "        document.querySelector('#' + key + ' button');\n",
              "      quickchartButtonEl.disabled = true;  // To prevent multiple clicks.\n",
              "      quickchartButtonEl.classList.add('colab-df-spinner');\n",
              "      try {\n",
              "        const charts = await google.colab.kernel.invokeFunction(\n",
              "            'suggestCharts', [key], {});\n",
              "      } catch (error) {\n",
              "        console.error('Error during call to suggestCharts:', error);\n",
              "      }\n",
              "      quickchartButtonEl.classList.remove('colab-df-spinner');\n",
              "      quickchartButtonEl.classList.add('colab-df-quickchart-complete');\n",
              "    }\n",
              "    (() => {\n",
              "      let quickchartButtonEl =\n",
              "        document.querySelector('#df-2469ff28-f580-4bae-9a1a-5b19f3225a1b button');\n",
              "      quickchartButtonEl.style.display =\n",
              "        google.colab.kernel.accessAllowed ? 'block' : 'none';\n",
              "    })();\n",
              "  </script>\n",
              "</div>\n",
              "\n",
              "    </div>\n",
              "  </div>\n"
            ],
            "application/vnd.google.colaboratory.intrinsic+json": {
              "type": "dataframe",
              "summary": "{\n  \"name\": \"df\",\n  \"rows\": 8,\n  \"fields\": [\n    {\n      \"column\": \"housing_median_age\",\n      \"properties\": {\n        \"dtype\": \"number\",\n        \"std\": 7286.589209342366,\n        \"min\": 1.0,\n        \"max\": 20635.0,\n        \"num_unique_values\": 8,\n        \"samples\": [\n          28.636152168645506,\n          29.0,\n          20635.0\n        ],\n        \"semantic_type\": \"\",\n        \"description\": \"\"\n      }\n    },\n    {\n      \"column\": \"total_rooms\",\n      \"properties\": {\n        \"dtype\": \"number\",\n        \"std\": 13944.343469643363,\n        \"min\": 2.0,\n        \"max\": 39320.0,\n        \"num_unique_values\": 8,\n        \"samples\": [\n          2636.020208383814,\n          2127.0,\n          20635.0\n        ],\n        \"semantic_type\": \"\",\n        \"description\": \"\"\n      }\n    },\n    {\n      \"column\": \"total_bedrooms\",\n      \"properties\": {\n        \"dtype\": \"number\",\n        \"std\": 7104.735895076016,\n        \"min\": 1.0,\n        \"max\": 20428.0,\n        \"num_unique_values\": 8,\n        \"samples\": [\n          537.8993048756608,\n          435.0,\n          20428.0\n        ],\n        \"semantic_type\": \"\",\n        \"description\": \"\"\n      }\n    },\n    {\n      \"column\": \"population\",\n      \"properties\": {\n        \"dtype\": \"number\",\n        \"std\": 13191.547183916915,\n        \"min\": 3.0,\n        \"max\": 35682.0,\n        \"num_unique_values\": 8,\n        \"samples\": [\n          1425.6602859219772,\n          1166.0,\n          20635.0\n        ],\n        \"semantic_type\": \"\",\n        \"description\": \"\"\n      }\n    },\n    {\n      \"column\": \"households\",\n      \"properties\": {\n        \"dtype\": \"number\",\n        \"std\": 4105.424137770022,\n        \"min\": 2.0,\n        \"max\": 11312.0,\n        \"num_unique_values\": 8,\n        \"samples\": [\n          504.3291195190948,\n          412.0,\n          11312.0\n        ],\n        \"semantic_type\": \"\",\n        \"description\": \"\"\n      }\n    },\n    {\n      \"column\": \"median_income\",\n      \"properties\": {\n        \"dtype\": \"number\",\n        \"std\": 7293.953620629092,\n        \"min\": 0.4999,\n        \"max\": 20635.0,\n        \"num_unique_values\": 8,\n        \"samples\": [\n          3.870943901138842,\n          3.5352,\n          20635.0\n        ],\n        \"semantic_type\": \"\",\n        \"description\": \"\"\n      }\n    },\n    {\n      \"column\": \"median_house_value\",\n      \"properties\": {\n        \"dtype\": \"number\",\n        \"std\": 156159.21190071866,\n        \"min\": 14999.0,\n        \"max\": 500001.0,\n        \"num_unique_values\": 8,\n        \"samples\": [\n          206813.75628786042,\n          179700.0,\n          20635.0\n        ],\n        \"semantic_type\": \"\",\n        \"description\": \"\"\n      }\n    },\n    {\n      \"column\": \"moisture_level\",\n      \"properties\": {\n        \"dtype\": \"number\",\n        \"std\": 7279.683429524357,\n        \"min\": 0.0,\n        \"max\": 20635.0,\n        \"num_unique_values\": 8,\n        \"samples\": [\n          47.25170826266053,\n          49.0,\n          20635.0\n        ],\n        \"semantic_type\": \"\",\n        \"description\": \"\"\n      }\n    },\n    {\n      \"column\": \"median_floor_count\",\n      \"properties\": {\n        \"dtype\": \"number\",\n        \"std\": 7295.1504030175665,\n        \"min\": 0.21921163090814022,\n        \"max\": 20635.0,\n        \"num_unique_values\": 8,\n        \"samples\": [\n          1.3121686455052097,\n          1.29,\n          20635.0\n        ],\n        \"semantic_type\": \"\",\n        \"description\": \"\"\n      }\n    },\n    {\n      \"column\": \"target\",\n      \"properties\": {\n        \"dtype\": \"number\",\n        \"std\": 7295.490039539158,\n        \"min\": 0.0,\n        \"max\": 20635.0,\n        \"num_unique_values\": 5,\n        \"samples\": [\n          0.23978677005088442,\n          1.0,\n          0.42696359254931354\n        ],\n        \"semantic_type\": \"\",\n        \"description\": \"\"\n      }\n    }\n  ]\n}"
            }
          },
          "metadata": {},
          "execution_count": 1427
        }
      ]
    },
    {
      "cell_type": "markdown",
      "source": [
        "## Univariate Data Exploration"
      ],
      "metadata": {
        "id": "ZeTx5V707G08"
      }
    },
    {
      "cell_type": "markdown",
      "source": [
        "### Target Variable"
      ],
      "metadata": {
        "id": "yEJsxUUqBUa-"
      }
    },
    {
      "cell_type": "code",
      "source": [
        "sns.countplot(data=df, x='target');"
      ],
      "metadata": {
        "colab": {
          "base_uri": "https://localhost:8080/",
          "height": 449
        },
        "id": "yy3hXHV_7ONl",
        "outputId": "b2a593be-0248-4bc2-db57-36c81bbb21d7"
      },
      "execution_count": null,
      "outputs": [
        {
          "output_type": "display_data",
          "data": {
            "text/plain": [
              "<Figure size 640x480 with 1 Axes>"
            ],
            "image/png": "[encoded data removed]"
          },
          "metadata": {}
        }
      ]
    },
    {
      "cell_type": "markdown",
      "source": [
        "The target variable suffers from imbalanced data. We will address this issue before training our model using resampling techniques."
      ],
      "metadata": {
        "id": "3FZklWlDTfjy"
      }
    },
    {
      "cell_type": "markdown",
      "source": [
        "### Continuous Variables"
      ],
      "metadata": {
        "id": "MfE7ttSCBY_K"
      }
    },
    {
      "cell_type": "code",
      "source": [
        "cont_vars = ['housing_median_age', 'total_rooms', 'total_bedrooms', 'population', 'households',\n",
        "             'median_income', 'median_house_value', 'moisture_level', 'median_floor_count']"
      ],
      "metadata": {
        "id": "xBkaXQg_QWJR"
      },
      "execution_count": null,
      "outputs": []
    },
    {
      "cell_type": "code",
      "source": [
        "sns.heatmap(df[cont_vars].corr(), annot=True, cmap='coolwarm', fmt=\".2f\")\n",
        "plt.title('Top Correlations with Total Bedrooms')\n",
        "plt.show();"
      ],
      "metadata": {
        "colab": {
          "base_uri": "https://localhost:8080/",
          "height": 585
        },
        "id": "BEp3OxodQOf5",
        "outputId": "a25a9aff-ed83-4edf-82f8-f050b8c815f6"
      },
      "execution_count": null,
      "outputs": [
        {
          "output_type": "display_data",
          "data": {
            "text/plain": [
              "<Figure size 640x480 with 2 Axes>"
            ],
            "image/png": "[encoded data removed]"
          },
          "metadata": {}
        }
      ]
    },
    {
      "cell_type": "code",
      "source": [
        "fig, ax = plt.subplots(nrows=3,ncols=3, figsize=(25,15))\n",
        "for i, col in enumerate(cont_vars):\n",
        "  if i<3:\n",
        "    sns.violinplot(data=df,\n",
        "                  x=col,\n",
        "                  density_norm='count',\n",
        "                  ax=ax[0,i])\n",
        "  elif i<6:\n",
        "    sns.violinplot(data=df,\n",
        "                  x=col,\n",
        "                  density_norm='count',\n",
        "                  ax=ax[1,i-3])\n",
        "  else:\n",
        "    sns.violinplot(data=df,\n",
        "                  x=col,\n",
        "                  density_norm='count',\n",
        "                  ax=ax[2,i-6]);"
      ],
      "metadata": {
        "id": "KSt2XZ0ETvct",
        "colab": {
          "base_uri": "https://localhost:8080/",
          "height": 647
        },
        "outputId": "bd4c7fd7-b614-4320-bfbe-25df0524ab6a"
      },
      "execution_count": null,
      "outputs": [
        {
          "output_type": "display_data",
          "data": {
            "text/plain": [
              "<Figure size 2500x1500 with 9 Axes>"
            ],
            "image/png": "[encoded data removed]"
          },
          "metadata": {}
        }
      ]
    },
    {
      "cell_type": "markdown",
      "source": [
        "Some features suffer from extreme outliers. Some noise reduction may be required. Let's take a look at each feature one by one:"
      ],
      "metadata": {
        "id": "7eMM3fGQBBw-"
      }
    },
    {
      "cell_type": "markdown",
      "source": [
        "#### housing_median_age"
      ],
      "metadata": {
        "id": "8I9P5aD2Sv5j"
      }
    },
    {
      "cell_type": "code",
      "source": [
        "df['housing_median_age'].describe(percentiles=np.arange(0,1,0.1))"
      ],
      "metadata": {
        "colab": {
          "base_uri": "https://localhost:8080/"
        },
        "id": "fct8W6Q352U8",
        "outputId": "2fc0f6b4-b1dd-443f-eee1-8a7a021de759"
      },
      "execution_count": null,
      "outputs": [
        {
          "output_type": "execute_result",
          "data": {
            "text/plain": [
              "count    20635.000000\n",
              "mean        28.636152\n",
              "std         12.583924\n",
              "min          1.000000\n",
              "0%           1.000000\n",
              "10%         13.000000\n",
              "20%         17.000000\n",
              "30%         20.000000\n",
              "40%         25.000000\n",
              "50%         29.000000\n",
              "60%         33.000000\n",
              "70%         36.000000\n",
              "80%         40.000000\n",
              "90%         46.000000\n",
              "max         52.000000\n",
              "Name: housing_median_age, dtype: float64"
            ]
          },
          "metadata": {},
          "execution_count": 1432
        }
      ]
    },
    {
      "cell_type": "markdown",
      "source": [
        "The distribution looks natural, and the skewness is not extreme. A transformation is not necessary."
      ],
      "metadata": {
        "id": "PH-xQtrsfeZh"
      }
    },
    {
      "cell_type": "markdown",
      "source": [
        "#### total_rooms"
      ],
      "metadata": {
        "id": "9RS2u10aBnb8"
      }
    },
    {
      "cell_type": "code",
      "source": [
        "df['total_rooms'].describe(percentiles=np.arange(0,1,0.05))"
      ],
      "metadata": {
        "colab": {
          "base_uri": "https://localhost:8080/"
        },
        "id": "i8O48RZZBlQF",
        "outputId": "0e44094b-0f73-4164-d536-50c93c234ae2"
      },
      "execution_count": null,
      "outputs": [
        {
          "output_type": "execute_result",
          "data": {
            "text/plain": [
              "count    20635.000000\n",
              "mean      2636.020208\n",
              "std       2181.794772\n",
              "min          2.000000\n",
              "0%           2.000000\n",
              "5%         620.700000\n",
              "10%        941.000000\n",
              "15%       1143.000000\n",
              "20%       1298.000000\n",
              "25%       1448.000000\n",
              "30%       1578.200000\n",
              "35%       1709.000000\n",
              "40%       1835.000000\n",
              "45%       1983.000000\n",
              "50%       2127.000000\n",
              "55%       2287.000000\n",
              "60%       2462.000000\n",
              "65%       2657.000000\n",
              "70%       2876.000000\n",
              "75%       3148.000000\n",
              "80%       3485.200000\n",
              "85%       3942.000000\n",
              "90%       4654.000000\n",
              "95%       6214.200000\n",
              "max      39320.000000\n",
              "Name: total_rooms, dtype: float64"
            ]
          },
          "metadata": {},
          "execution_count": 1433
        }
      ]
    },
    {
      "cell_type": "markdown",
      "source": [
        "95% of the observations have less than 6214 total rooms. However, the distribution of data points is extremely skewed, with significant outliers. How we deal with the largest values is very important."
      ],
      "metadata": {
        "id": "SSwCw5heE4Xd"
      }
    },
    {
      "cell_type": "code",
      "source": [
        "quantiles = np.arange(0.95,1,0.01)\n",
        "for i, quantile in enumerate(quantiles):\n",
        "  print(f\"quantile {0.95+i/100} =\", df.total_rooms.quantile(quantile))"
      ],
      "metadata": {
        "colab": {
          "base_uri": "https://localhost:8080/"
        },
        "id": "kTNfB_dLF67a",
        "outputId": "faedd183-8a11-4ad6-8477-aab709862b4c"
      },
      "execution_count": null,
      "outputs": [
        {
          "output_type": "stream",
          "name": "stdout",
          "text": [
            "quantile 0.95 = 6214.199999999997\n",
            "quantile 0.96 = 6739.639999999999\n",
            "quantile 0.97 = 7504.859999999997\n",
            "quantile 0.98 = 8855.119999999995\n",
            "quantile 0.99 = 11214.659999999993\n",
            "quantile 1.0 = 39320.0\n"
          ]
        }
      ]
    },
    {
      "cell_type": "markdown",
      "source": [
        "We see a big amount of increase from the 99th percentile to the maximum value."
      ],
      "metadata": {
        "id": "M54oHbF1G_Dv"
      }
    },
    {
      "cell_type": "code",
      "source": [
        "df.total_rooms.nlargest(10)"
      ],
      "metadata": {
        "colab": {
          "base_uri": "https://localhost:8080/"
        },
        "id": "itponlXpBvOE",
        "outputId": "b699de60-1988-44c6-d29e-9b4a282d7b5b"
      },
      "execution_count": null,
      "outputs": [
        {
          "output_type": "execute_result",
          "data": {
            "text/plain": [
              "ID\n",
              "13216    39320.0\n",
              "6093     37937.0\n",
              "5072     32627.0\n",
              "17056    32054.0\n",
              "20296    30450.0\n",
              "13285    30405.0\n",
              "520      30401.0\n",
              "8365     28258.0\n",
              "7623     27870.0\n",
              "3767     27700.0\n",
              "Name: total_rooms, dtype: float64"
            ]
          },
          "metadata": {},
          "execution_count": 1435
        }
      ]
    },
    {
      "cell_type": "markdown",
      "source": [
        "Let's see the proportion of outliers:"
      ],
      "metadata": {
        "id": "Akl7Vk0ekrNX"
      }
    },
    {
      "cell_type": "code",
      "source": [
        "IQR = df.total_rooms.quantile(0.75) - df.total_rooms.quantile(0.25) # Interquartile range\n",
        "UB = df.total_rooms.quantile(0.75) + 1.5*IQR\n",
        "LB = max(df.total_rooms.quantile(0.25) - 1.5*IQR, 0) # Since it cannot be negative\n",
        "print(f\"The lower bound for outliers is: {LB}\")\n",
        "print(f\"The upper bound for outliers is: {UB}\")\n",
        "\n",
        "outlier_count = len(df[(df.total_rooms > UB) | (df.total_rooms < LB)])\n",
        "print(f\"Proportion of outliers is: {outlier_count/len(df)}\")"
      ],
      "metadata": {
        "colab": {
          "base_uri": "https://localhost:8080/"
        },
        "id": "jOUWCRNpHVO_",
        "outputId": "578aced3-183c-453f-f47b-e36ee6cda435"
      },
      "execution_count": null,
      "outputs": [
        {
          "output_type": "stream",
          "name": "stdout",
          "text": [
            "The lower bound for outliers is: 0\n",
            "The upper bound for outliers is: 5698.0\n",
            "Proportion of outliers is: 0.062369760116307245\n"
          ]
        }
      ]
    },
    {
      "cell_type": "markdown",
      "source": [
        "The outliers don't seem to be wrong observations, but they indeed make up a relatively big portion of the dataset, more than 6%. We can reduce the impact of outliers by performing log transformation before fitting the model."
      ],
      "metadata": {
        "id": "HdnM2yUGHQIc"
      }
    },
    {
      "cell_type": "markdown",
      "source": [
        "#### total_bedrooms"
      ],
      "metadata": {
        "id": "Mg8UHLfQaaL9"
      }
    },
    {
      "cell_type": "code",
      "source": [
        "df.total_bedrooms.isna().sum()"
      ],
      "metadata": {
        "colab": {
          "base_uri": "https://localhost:8080/"
        },
        "id": "Vx9hEE7Ma1S1",
        "outputId": "f92b772d-ef84-471a-ec9d-05ba3eda2f3f"
      },
      "execution_count": null,
      "outputs": [
        {
          "output_type": "execute_result",
          "data": {
            "text/plain": [
              "207"
            ]
          },
          "metadata": {},
          "execution_count": 1437
        }
      ]
    },
    {
      "cell_type": "markdown",
      "source": [
        "There are 207 missing observations regarding total_bedrooms. We are possibly going to impute them. Since it is highly correlated with total_rooms and population, we are going to prioritize them for our imputation."
      ],
      "metadata": {
        "id": "k3IoYuZQa7EH"
      }
    },
    {
      "cell_type": "code",
      "source": [
        "df['total_bedrooms'].describe(percentiles=np.arange(0,1,0.05))"
      ],
      "metadata": {
        "colab": {
          "base_uri": "https://localhost:8080/"
        },
        "id": "2nECQ4UECEbq",
        "outputId": "435fd758-710a-4230-a1d6-414ec5760544"
      },
      "execution_count": null,
      "outputs": [
        {
          "output_type": "execute_result",
          "data": {
            "text/plain": [
              "count    20428.000000\n",
              "mean       537.899305\n",
              "std        421.425970\n",
              "min          1.000000\n",
              "0%           1.000000\n",
              "5%         137.000000\n",
              "10%        198.000000\n",
              "15%        238.000000\n",
              "20%        270.000000\n",
              "25%        296.000000\n",
              "30%        322.100000\n",
              "35%        349.000000\n",
              "40%        377.000000\n",
              "45%        406.000000\n",
              "50%        435.000000\n",
              "55%        468.000000\n",
              "60%        502.000000\n",
              "65%        544.000000\n",
              "70%        591.000000\n",
              "75%        647.000000\n",
              "80%        719.000000\n",
              "85%        812.000000\n",
              "90%        965.000000\n",
              "95%       1275.650000\n",
              "max       6445.000000\n",
              "Name: total_bedrooms, dtype: float64"
            ]
          },
          "metadata": {},
          "execution_count": 1438
        }
      ]
    },
    {
      "cell_type": "code",
      "source": [
        "df.total_bedrooms.nlargest(20)"
      ],
      "metadata": {
        "colab": {
          "base_uri": "https://localhost:8080/"
        },
        "id": "2CUBdGb7azS6",
        "outputId": "d31a7d4b-b6a2-4f9e-bc95-b878ef73f502"
      },
      "execution_count": null,
      "outputs": [
        {
          "output_type": "execute_result",
          "data": {
            "text/plain": [
              "ID\n",
              "5072     6445.0\n",
              "13216    6210.0\n",
              "6093     5471.0\n",
              "17067    5419.0\n",
              "17056    5290.0\n",
              "20296    5033.0\n",
              "7623     5027.0\n",
              "520      4957.0\n",
              "6467     4952.0\n",
              "19932    4819.0\n",
              "2222     4798.0\n",
              "19976    4585.0\n",
              "16740    4522.0\n",
              "968      4492.0\n",
              "15761    4457.0\n",
              "7638     4407.0\n",
              "4611     4386.0\n",
              "9915     4335.0\n",
              "2341     4183.0\n",
              "3767     4179.0\n",
              "Name: total_bedrooms, dtype: float64"
            ]
          },
          "metadata": {},
          "execution_count": 1439
        }
      ]
    },
    {
      "cell_type": "code",
      "source": [
        "IQR = df.total_bedrooms.quantile(0.75)-df.total_bedrooms.quantile(0.25)\n",
        "UB = df.total_bedrooms.quantile(0.75) + 1.5*IQR\n",
        "LB = max(df.total_bedrooms.quantile(0.25) - 1.5*IQR, 0) # Since it cannot be negative\n",
        "print(f\"The lower bound for outliers is: {LB}\")\n",
        "print(f\"The upper bound for outliers is: {UB}\")\n",
        "\n",
        "outlier_count = len(df[(df.total_bedrooms > UB) | (df.total_bedrooms < LB)])\n",
        "print(f\"Proportion of outliers is: {outlier_count/len(df)}\")"
      ],
      "metadata": {
        "colab": {
          "base_uri": "https://localhost:8080/"
        },
        "id": "HkxalMMdcCar",
        "outputId": "7afbb03a-446e-4c2f-a020-0cfe2965c117"
      },
      "execution_count": null,
      "outputs": [
        {
          "output_type": "stream",
          "name": "stdout",
          "text": [
            "The lower bound for outliers is: 0\n",
            "The upper bound for outliers is: 1173.5\n",
            "Proportion of outliers is: 0.06159437848315968\n"
          ]
        }
      ]
    },
    {
      "cell_type": "markdown",
      "source": [
        "Following the same thought process as total_rooms, we are better off transforming total_bedrooms as well."
      ],
      "metadata": {
        "id": "_WIiO2X7bg4p"
      }
    },
    {
      "cell_type": "markdown",
      "source": [
        "#### population"
      ],
      "metadata": {
        "id": "rImHtCojbtpU"
      }
    },
    {
      "cell_type": "code",
      "source": [
        "df['population'].describe(percentiles=np.arange(0,1,0.05))"
      ],
      "metadata": {
        "colab": {
          "base_uri": "https://localhost:8080/"
        },
        "id": "I3CVK8xXbf2X",
        "outputId": "d9c46e10-506f-4e4d-b391-02e8d961fdd1"
      },
      "execution_count": null,
      "outputs": [
        {
          "output_type": "execute_result",
          "data": {
            "text/plain": [
              "count    20635.000000\n",
              "mean      1425.660286\n",
              "std       1132.530137\n",
              "min          3.000000\n",
              "0%           3.000000\n",
              "5%         348.000000\n",
              "10%        510.400000\n",
              "15%        622.000000\n",
              "20%        710.000000\n",
              "25%        787.000000\n",
              "30%        859.000000\n",
              "35%        933.000000\n",
              "40%       1007.000000\n",
              "45%       1086.000000\n",
              "50%       1166.000000\n",
              "55%       1255.000000\n",
              "60%       1349.000000\n",
              "65%       1460.100000\n",
              "70%       1580.000000\n",
              "75%       1725.000000\n",
              "80%       1908.000000\n",
              "85%       2153.000000\n",
              "90%       2566.000000\n",
              "95%       3288.000000\n",
              "max      35682.000000\n",
              "Name: population, dtype: float64"
            ]
          },
          "metadata": {},
          "execution_count": 1441
        }
      ]
    },
    {
      "cell_type": "code",
      "source": [
        "sns.boxplot(y=df.population)"
      ],
      "metadata": {
        "colab": {
          "base_uri": "https://localhost:8080/",
          "height": 428
        },
        "id": "hGi1aX_pccBU",
        "outputId": "6c08b30d-0862-4dc5-8393-43c449077c14"
      },
      "execution_count": null,
      "outputs": [
        {
          "output_type": "execute_result",
          "data": {
            "text/plain": [
              "<Axes: ylabel='population'>"
            ]
          },
          "metadata": {},
          "execution_count": 1442
        },
        {
          "output_type": "display_data",
          "data": {
            "text/plain": [
              "<Figure size 640x480 with 1 Axes>"
            ],
            "image/png": "[encoded data removed]"
          },
          "metadata": {}
        }
      ]
    },
    {
      "cell_type": "code",
      "source": [
        "df.population.nlargest(10)"
      ],
      "metadata": {
        "colab": {
          "base_uri": "https://localhost:8080/"
        },
        "id": "OvjcraIHdd4l",
        "outputId": "cf24a0d8-5c01-455e-dbde-a7e88cacb882"
      },
      "execution_count": null,
      "outputs": [
        {
          "output_type": "execute_result",
          "data": {
            "text/plain": [
              "ID\n",
              "19932    35682.0\n",
              "5072     28566.0\n",
              "13216    16305.0\n",
              "6093     16122.0\n",
              "17056    15507.0\n",
              "3767     15037.0\n",
              "520      13251.0\n",
              "13285    12873.0\n",
              "16211    12427.0\n",
              "8365     12203.0\n",
              "Name: population, dtype: float64"
            ]
          },
          "metadata": {},
          "execution_count": 1443
        }
      ]
    },
    {
      "cell_type": "code",
      "source": [
        "IQR = df.population.quantile(0.75)-df.population.quantile(0.25)\n",
        "UB = df.population.quantile(0.75) + 1.5*IQR\n",
        "LB = max(df.population.quantile(0.25) - 1.5*IQR, 0) # Since it cannot be negative\n",
        "print(f\"The lower bound for outliers is: {LB}\")\n",
        "print(f\"The upper bound for outliers is: {UB}\")\n",
        "\n",
        "outlier_count = len(df[(df.population > UB) | (df.population < LB)])\n",
        "print(f\"Proportion of outliers is: {outlier_count/len(df)}\")"
      ],
      "metadata": {
        "colab": {
          "base_uri": "https://localhost:8080/"
        },
        "id": "3WD1YPrfdtkM",
        "outputId": "78326bb8-4e91-4f96-de5b-54dd37eec422"
      },
      "execution_count": null,
      "outputs": [
        {
          "output_type": "stream",
          "name": "stdout",
          "text": [
            "The lower bound for outliers is: 0\n",
            "The upper bound for outliers is: 3132.0\n",
            "Proportion of outliers is: 0.05795977707778047\n"
          ]
        }
      ]
    },
    {
      "cell_type": "markdown",
      "source": [
        "In this case, we have two observations that are significantly larger than the 3rd largest observation. While I'll deal with the rest of the outliers through transformation, I'll likely drop the two highest observations in population as they are very uncommon anyway."
      ],
      "metadata": {
        "id": "Wby_7lvzdmxH"
      }
    },
    {
      "cell_type": "markdown",
      "source": [
        "#### households"
      ],
      "metadata": {
        "id": "dMmbhExXfuSj"
      }
    },
    {
      "cell_type": "code",
      "source": [
        "df.households.isna().mean()"
      ],
      "metadata": {
        "colab": {
          "base_uri": "https://localhost:8080/"
        },
        "id": "PWEJ9D8DhgMN",
        "outputId": "5d28923b-d976-447c-d7e2-03769c6d4199"
      },
      "execution_count": null,
      "outputs": [
        {
          "output_type": "execute_result",
          "data": {
            "text/plain": [
              "0.4518051853646717"
            ]
          },
          "metadata": {},
          "execution_count": 1445
        }
      ]
    },
    {
      "cell_type": "markdown",
      "source": [
        "About 45% of the data is missing for this variable. Too much information is missing, imputing the data will likely result in biased predictions. We are better off dropping this column."
      ],
      "metadata": {
        "id": "qikdZ2Wihexz"
      }
    },
    {
      "cell_type": "code",
      "source": [
        "df.drop(['households'], axis=1, inplace=True)"
      ],
      "metadata": {
        "id": "EnQEud0eh59I"
      },
      "execution_count": null,
      "outputs": []
    },
    {
      "cell_type": "markdown",
      "source": [
        "#### median_income"
      ],
      "metadata": {
        "id": "0UNcJZO3iVvk"
      }
    },
    {
      "cell_type": "code",
      "source": [
        "df['median_income'].describe(percentiles=np.arange(0,1,0.05))"
      ],
      "metadata": {
        "colab": {
          "base_uri": "https://localhost:8080/"
        },
        "id": "arYc9HfSgHzX",
        "outputId": "6cba0acd-b774-45e8-83cf-712b817a552b"
      },
      "execution_count": null,
      "outputs": [
        {
          "output_type": "execute_result",
          "data": {
            "text/plain": [
              "count    20635.000000\n",
              "mean         3.870944\n",
              "std          1.899961\n",
              "min          0.499900\n",
              "0%           0.499900\n",
              "5%           1.600420\n",
              "10%          1.903800\n",
              "15%          2.148400\n",
              "20%          2.352300\n",
              "25%          2.563100\n",
              "30%          2.740500\n",
              "35%          2.966200\n",
              "40%          3.140600\n",
              "45%          3.319120\n",
              "50%          3.535200\n",
              "55%          3.721340\n",
              "60%          3.967640\n",
              "65%          4.171120\n",
              "70%          4.437500\n",
              "75%          4.743700\n",
              "80%          5.109820\n",
              "85%          5.542990\n",
              "90%          6.159260\n",
              "95%          7.300330\n",
              "max         15.000100\n",
              "Name: median_income, dtype: float64"
            ]
          },
          "metadata": {},
          "execution_count": 1447
        }
      ]
    },
    {
      "cell_type": "code",
      "source": [
        "IQR = df.median_income.quantile(0.75)-df.median_income.quantile(0.25)\n",
        "UB = df.median_income.quantile(0.75) + 1.5 * IQR\n",
        "LB = max(df.median_income.quantile(0.25) - 1.5 * IQR, 0) # Since it cannot be negative\n",
        "print(f\"The lower bound for outliers is: {LB}\")\n",
        "print(f\"The upper bound for outliers is: {UB}\")\n",
        "\n",
        "outlier_count = len(df[(df.median_income > UB) | (df.median_income < LB)])\n",
        "print(f\"Proportion of outliers is: {outlier_count/len(df)}\")"
      ],
      "metadata": {
        "colab": {
          "base_uri": "https://localhost:8080/"
        },
        "id": "VxHKtJGRic6S",
        "outputId": "f6a89831-4bbe-4d51-c27f-4197dcba53fa"
      },
      "execution_count": null,
      "outputs": [
        {
          "output_type": "stream",
          "name": "stdout",
          "text": [
            "The lower bound for outliers is: 0\n",
            "The upper bound for outliers is: 8.014599999999998\n",
            "Proportion of outliers is: 0.032905258056699783\n"
          ]
        }
      ]
    },
    {
      "cell_type": "code",
      "source": [
        "df.median_income.nlargest(10)"
      ],
      "metadata": {
        "colab": {
          "base_uri": "https://localhost:8080/"
        },
        "id": "06-mpGurl6y9",
        "outputId": "5005e530-32a4-4dcc-cd88-e772a66a83b1"
      },
      "execution_count": null,
      "outputs": [
        {
          "output_type": "execute_result",
          "data": {
            "text/plain": [
              "ID\n",
              "964     15.0001\n",
              "1735    15.0001\n",
              "1851    15.0001\n",
              "2020    15.0001\n",
              "2052    15.0001\n",
              "2091    15.0001\n",
              "2148    15.0001\n",
              "2190    15.0001\n",
              "2251    15.0001\n",
              "2361    15.0001\n",
              "Name: median_income, dtype: float64"
            ]
          },
          "metadata": {},
          "execution_count": 1449
        }
      ]
    },
    {
      "cell_type": "code",
      "source": [
        "df[df.median_income == df.median_income.max()].head(10)"
      ],
      "metadata": {
        "colab": {
          "base_uri": "https://localhost:8080/",
          "height": 414
        },
        "id": "H0uSvWPtmLFy",
        "outputId": "57fb4228-3db1-4bf4-9cec-2e4b45902269"
      },
      "execution_count": null,
      "outputs": [
        {
          "output_type": "execute_result",
          "data": {
            "text/plain": [
              "      housing_median_age  total_rooms  total_bedrooms  population  \\\n",
              "ID                                                                  \n",
              "964                 48.0       1371.0             NaN       528.0   \n",
              "1735                37.0        407.0            67.0       100.0   \n",
              "1851                52.0        220.0            32.0        55.0   \n",
              "2020                52.0        955.0           100.0       457.0   \n",
              "2052                52.0       1841.0           240.0       693.0   \n",
              "2091                46.0        778.0            90.0       238.0   \n",
              "2148                40.0       2529.0           293.0       831.0   \n",
              "2190                42.0       2861.0           360.0       829.0   \n",
              "2251                52.0       3815.0           439.0      1266.0   \n",
              "2361                42.0       1918.0           216.0       632.0   \n",
              "\n",
              "      median_income  median_house_value  moisture_level  median_floor_count  \\\n",
              "ID                                                                            \n",
              "964         15.0001            500001.0              54                1.34   \n",
              "1735        15.0001            500001.0              68                1.06   \n",
              "1851        15.0001            131300.0               0                1.38   \n",
              "2020        15.0001            500001.0              65                1.10   \n",
              "2052        15.0001            500001.0              35                1.01   \n",
              "2091        15.0001            500001.0              40                1.30   \n",
              "2148        15.0001            500001.0              46                1.62   \n",
              "2190        15.0001            500001.0               5                1.01   \n",
              "2251        15.0001            500001.0              22                1.25   \n",
              "2361        15.0001            500001.0              61                1.03   \n",
              "\n",
              "      target architectural_style community_engagement  \n",
              "ID                                                     \n",
              "964      0.0              Modern                  NaN  \n",
              "1735     0.0              Modern                  NaN  \n",
              "1851     0.0              Modern               medium  \n",
              "2020     0.0       Mediterranean                  low  \n",
              "2052     0.0           Victorian                 high  \n",
              "2091     0.0        Contemporary                  low  \n",
              "2148     1.0           Victorian                  low  \n",
              "2190     0.0            Colonial               medium  \n",
              "2251     0.0        Contemporary                  low  \n",
              "2361     0.0        Contemporary                  low  "
            ],
            "text/html": [
              "\n",
              "  <div id=\"df-1e34f145-1b50-49b0-80cd-cb56558e85df\" class=\"colab-df-container\">\n",
              "    <div>\n",
              "<style scoped>\n",
              "    .dataframe tbody tr th:only-of-type {\n",
              "        vertical-align: middle;\n",
              "    }\n",
              "\n",
              "    .dataframe tbody tr th {\n",
              "        vertical-align: top;\n",
              "    }\n",
              "\n",
              "    .dataframe thead th {\n",
              "        text-align: right;\n",
              "    }\n",
              "</style>\n",
              "<table border=\"1\" class=\"dataframe\">\n",
              "  <thead>\n",
              "    <tr style=\"text-align: right;\">\n",
              "      <th></th>\n",
              "      <th>housing_median_age</th>\n",
              "      <th>total_rooms</th>\n",
              "      <th>total_bedrooms</th>\n",
              "      <th>population</th>\n",
              "      <th>median_income</th>\n",
              "      <th>median_house_value</th>\n",
              "      <th>moisture_level</th>\n",
              "      <th>median_floor_count</th>\n",
              "      <th>target</th>\n",
              "      <th>architectural_style</th>\n",
              "      <th>community_engagement</th>\n",
              "    </tr>\n",
              "    <tr>\n",
              "      <th>ID</th>\n",
              "      <th></th>\n",
              "      <th></th>\n",
              "      <th></th>\n",
              "      <th></th>\n",
              "      <th></th>\n",
              "      <th></th>\n",
              "      <th></th>\n",
              "      <th></th>\n",
              "      <th></th>\n",
              "      <th></th>\n",
              "      <th></th>\n",
              "    </tr>\n",
              "  </thead>\n",
              "  <tbody>\n",
              "    <tr>\n",
              "      <th>964</th>\n",
              "      <td>48.0</td>\n",
              "      <td>1371.0</td>\n",
              "      <td>NaN</td>\n",
              "      <td>528.0</td>\n",
              "      <td>15.0001</td>\n",
              "      <td>500001.0</td>\n",
              "      <td>54</td>\n",
              "      <td>1.34</td>\n",
              "      <td>0.0</td>\n",
              "      <td>Modern</td>\n",
              "      <td>NaN</td>\n",
              "    </tr>\n",
              "    <tr>\n",
              "      <th>1735</th>\n",
              "      <td>37.0</td>\n",
              "      <td>407.0</td>\n",
              "      <td>67.0</td>\n",
              "      <td>100.0</td>\n",
              "      <td>15.0001</td>\n",
              "      <td>500001.0</td>\n",
              "      <td>68</td>\n",
              "      <td>1.06</td>\n",
              "      <td>0.0</td>\n",
              "      <td>Modern</td>\n",
              "      <td>NaN</td>\n",
              "    </tr>\n",
              "    <tr>\n",
              "      <th>1851</th>\n",
              "      <td>52.0</td>\n",
              "      <td>220.0</td>\n",
              "      <td>32.0</td>\n",
              "      <td>55.0</td>\n",
              "      <td>15.0001</td>\n",
              "      <td>131300.0</td>\n",
              "      <td>0</td>\n",
              "      <td>1.38</td>\n",
              "      <td>0.0</td>\n",
              "      <td>Modern</td>\n",
              "      <td>medium</td>\n",
              "    </tr>\n",
              "    <tr>\n",
              "      <th>2020</th>\n",
              "      <td>52.0</td>\n",
              "      <td>955.0</td>\n",
              "      <td>100.0</td>\n",
              "      <td>457.0</td>\n",
              "      <td>15.0001</td>\n",
              "      <td>500001.0</td>\n",
              "      <td>65</td>\n",
              "      <td>1.10</td>\n",
              "      <td>0.0</td>\n",
              "      <td>Mediterranean</td>\n",
              "      <td>low</td>\n",
              "    </tr>\n",
              "    <tr>\n",
              "      <th>2052</th>\n",
              "      <td>52.0</td>\n",
              "      <td>1841.0</td>\n",
              "      <td>240.0</td>\n",
              "      <td>693.0</td>\n",
              "      <td>15.0001</td>\n",
              "      <td>500001.0</td>\n",
              "      <td>35</td>\n",
              "      <td>1.01</td>\n",
              "      <td>0.0</td>\n",
              "      <td>Victorian</td>\n",
              "      <td>high</td>\n",
              "    </tr>\n",
              "    <tr>\n",
              "      <th>2091</th>\n",
              "      <td>46.0</td>\n",
              "      <td>778.0</td>\n",
              "      <td>90.0</td>\n",
              "      <td>238.0</td>\n",
              "      <td>15.0001</td>\n",
              "      <td>500001.0</td>\n",
              "      <td>40</td>\n",
              "      <td>1.30</td>\n",
              "      <td>0.0</td>\n",
              "      <td>Contemporary</td>\n",
              "      <td>low</td>\n",
              "    </tr>\n",
              "    <tr>\n",
              "      <th>2148</th>\n",
              "      <td>40.0</td>\n",
              "      <td>2529.0</td>\n",
              "      <td>293.0</td>\n",
              "      <td>831.0</td>\n",
              "      <td>15.0001</td>\n",
              "      <td>500001.0</td>\n",
              "      <td>46</td>\n",
              "      <td>1.62</td>\n",
              "      <td>1.0</td>\n",
              "      <td>Victorian</td>\n",
              "      <td>low</td>\n",
              "    </tr>\n",
              "    <tr>\n",
              "      <th>2190</th>\n",
              "      <td>42.0</td>\n",
              "      <td>2861.0</td>\n",
              "      <td>360.0</td>\n",
              "      <td>829.0</td>\n",
              "      <td>15.0001</td>\n",
              "      <td>500001.0</td>\n",
              "      <td>5</td>\n",
              "      <td>1.01</td>\n",
              "      <td>0.0</td>\n",
              "      <td>Colonial</td>\n",
              "      <td>medium</td>\n",
              "    </tr>\n",
              "    <tr>\n",
              "      <th>2251</th>\n",
              "      <td>52.0</td>\n",
              "      <td>3815.0</td>\n",
              "      <td>439.0</td>\n",
              "      <td>1266.0</td>\n",
              "      <td>15.0001</td>\n",
              "      <td>500001.0</td>\n",
              "      <td>22</td>\n",
              "      <td>1.25</td>\n",
              "      <td>0.0</td>\n",
              "      <td>Contemporary</td>\n",
              "      <td>low</td>\n",
              "    </tr>\n",
              "    <tr>\n",
              "      <th>2361</th>\n",
              "      <td>42.0</td>\n",
              "      <td>1918.0</td>\n",
              "      <td>216.0</td>\n",
              "      <td>632.0</td>\n",
              "      <td>15.0001</td>\n",
              "      <td>500001.0</td>\n",
              "      <td>61</td>\n",
              "      <td>1.03</td>\n",
              "      <td>0.0</td>\n",
              "      <td>Contemporary</td>\n",
              "      <td>low</td>\n",
              "    </tr>\n",
              "  </tbody>\n",
              "</table>\n",
              "</div>\n",
              "    <div class=\"colab-df-buttons\">\n",
              "\n",
              "  <div class=\"colab-df-container\">\n",
              "    <button class=\"colab-df-convert\" onclick=\"convertToInteractive('df-1e34f145-1b50-49b0-80cd-cb56558e85df')\"\n",
              "            title=\"Convert this dataframe to an interactive table.\"\n",
              "            style=\"display:none;\">\n",
              "\n",
              "  <svg xmlns=\"http://www.w3.org/2000/svg\" height=\"24px\" viewBox=\"0 -960 960 960\">\n",
              "    <path d=\"M120-120v-720h720v720H120Zm60-500h600v-160H180v160Zm220 220h160v-160H400v160Zm0 220h160v-160H400v160ZM180-400h160v-160H180v160Zm440 0h160v-160H620v160ZM180-180h160v-160H180v160Zm440 0h160v-160H620v160Z\"/>\n",
              "  </svg>\n",
              "    </button>\n",
              "\n",
              "  <style>\n",
              "    .colab-df-container {\n",
              "      display:flex;\n",
              "      gap: 12px;\n",
              "    }\n",
              "\n",
              "    .colab-df-convert {\n",
              "      background-color: #E8F0FE;\n",
              "      border: none;\n",
              "      border-radius: 50%;\n",
              "      cursor: pointer;\n",
              "      display: none;\n",
              "      fill: #1967D2;\n",
              "      height: 32px;\n",
              "      padding: 0 0 0 0;\n",
              "      width: 32px;\n",
              "    }\n",
              "\n",
              "    .colab-df-convert:hover {\n",
              "      background-color: #E2EBFA;\n",
              "      box-shadow: 0px 1px 2px rgba(60, 64, 67, 0.3), 0px 1px 3px 1px rgba(60, 64, 67, 0.15);\n",
              "      fill: #174EA6;\n",
              "    }\n",
              "\n",
              "    .colab-df-buttons div {\n",
              "      margin-bottom: 4px;\n",
              "    }\n",
              "\n",
              "    [theme=dark] .colab-df-convert {\n",
              "      background-color: #3B4455;\n",
              "      fill: #D2E3FC;\n",
              "    }\n",
              "\n",
              "    [theme=dark] .colab-df-convert:hover {\n",
              "      background-color: #434B5C;\n",
              "      box-shadow: 0px 1px 3px 1px rgba(0, 0, 0, 0.15);\n",
              "      filter: drop-shadow(0px 1px 2px rgba(0, 0, 0, 0.3));\n",
              "      fill: #FFFFFF;\n",
              "    }\n",
              "  </style>\n",
              "\n",
              "    <script>\n",
              "      const buttonEl =\n",
              "        document.querySelector('#df-1e34f145-1b50-49b0-80cd-cb56558e85df button.colab-df-convert');\n",
              "      buttonEl.style.display =\n",
              "        google.colab.kernel.accessAllowed ? 'block' : 'none';\n",
              "\n",
              "      async function convertToInteractive(key) {\n",
              "        const element = document.querySelector('#df-1e34f145-1b50-49b0-80cd-cb56558e85df');\n",
              "        const dataTable =\n",
              "          await google.colab.kernel.invokeFunction('convertToInteractive',\n",
              "                                                    [key], {});\n",
              "        if (!dataTable) return;\n",
              "\n",
              "        const docLinkHtml = 'Like what you see? Visit the ' +\n",
              "          '<a target=\"_blank\" href=https://colab.research.google.com/notebooks/data_table.ipynb>data table notebook</a>'\n",
              "          + ' to learn more about interactive tables.';\n",
              "        element.innerHTML = '';\n",
              "        dataTable['output_type'] = 'display_data';\n",
              "        await google.colab.output.renderOutput(dataTable, element);\n",
              "        const docLink = document.createElement('div');\n",
              "        docLink.innerHTML = docLinkHtml;\n",
              "        element.appendChild(docLink);\n",
              "      }\n",
              "    </script>\n",
              "  </div>\n",
              "\n",
              "\n",
              "<div id=\"df-3ba5e641-1a67-4597-80f0-82dc6bc90fcc\">\n",
              "  <button class=\"colab-df-quickchart\" onclick=\"quickchart('df-3ba5e641-1a67-4597-80f0-82dc6bc90fcc')\"\n",
              "            title=\"Suggest charts\"\n",
              "            style=\"display:none;\">\n",
              "\n",
              "<svg xmlns=\"http://www.w3.org/2000/svg\" height=\"24px\"viewBox=\"0 0 24 24\"\n",
              "     width=\"24px\">\n",
              "    <g>\n",
              "        <path d=\"M19 3H5c-1.1 0-2 .9-2 2v14c0 1.1.9 2 2 2h14c1.1 0 2-.9 2-2V5c0-1.1-.9-2-2-2zM9 17H7v-7h2v7zm4 0h-2V7h2v10zm4 0h-2v-4h2v4z\"/>\n",
              "    </g>\n",
              "</svg>\n",
              "  </button>\n",
              "\n",
              "<style>\n",
              "  .colab-df-quickchart {\n",
              "      --bg-color: #E8F0FE;\n",
              "      --fill-color: #1967D2;\n",
              "      --hover-bg-color: #E2EBFA;\n",
              "      --hover-fill-color: #174EA6;\n",
              "      --disabled-fill-color: #AAA;\n",
              "      --disabled-bg-color: #DDD;\n",
              "  }\n",
              "\n",
              "  [theme=dark] .colab-df-quickchart {\n",
              "      --bg-color: #3B4455;\n",
              "      --fill-color: #D2E3FC;\n",
              "      --hover-bg-color: #434B5C;\n",
              "      --hover-fill-color: #FFFFFF;\n",
              "      --disabled-bg-color: #3B4455;\n",
              "      --disabled-fill-color: #666;\n",
              "  }\n",
              "\n",
              "  .colab-df-quickchart {\n",
              "    background-color: var(--bg-color);\n",
              "    border: none;\n",
              "    border-radius: 50%;\n",
              "    cursor: pointer;\n",
              "    display: none;\n",
              "    fill: var(--fill-color);\n",
              "    height: 32px;\n",
              "    padding: 0;\n",
              "    width: 32px;\n",
              "  }\n",
              "\n",
              "  .colab-df-quickchart:hover {\n",
              "    background-color: var(--hover-bg-color);\n",
              "    box-shadow: 0 1px 2px rgba(60, 64, 67, 0.3), 0 1px 3px 1px rgba(60, 64, 67, 0.15);\n",
              "    fill: var(--button-hover-fill-color);\n",
              "  }\n",
              "\n",
              "  .colab-df-quickchart-complete:disabled,\n",
              "  .colab-df-quickchart-complete:disabled:hover {\n",
              "    background-color: var(--disabled-bg-color);\n",
              "    fill: var(--disabled-fill-color);\n",
              "    box-shadow: none;\n",
              "  }\n",
              "\n",
              "  .colab-df-spinner {\n",
              "    border: 2px solid var(--fill-color);\n",
              "    border-color: transparent;\n",
              "    border-bottom-color: var(--fill-color);\n",
              "    animation:\n",
              "      spin 1s steps(1) infinite;\n",
              "  }\n",
              "\n",
              "  @keyframes spin {\n",
              "    0% {\n",
              "      border-color: transparent;\n",
              "      border-bottom-color: var(--fill-color);\n",
              "      border-left-color: var(--fill-color);\n",
              "    }\n",
              "    20% {\n",
              "      border-color: transparent;\n",
              "      border-left-color: var(--fill-color);\n",
              "      border-top-color: var(--fill-color);\n",
              "    }\n",
              "    30% {\n",
              "      border-color: transparent;\n",
              "      border-left-color: var(--fill-color);\n",
              "      border-top-color: var(--fill-color);\n",
              "      border-right-color: var(--fill-color);\n",
              "    }\n",
              "    40% {\n",
              "      border-color: transparent;\n",
              "      border-right-color: var(--fill-color);\n",
              "      border-top-color: var(--fill-color);\n",
              "    }\n",
              "    60% {\n",
              "      border-color: transparent;\n",
              "      border-right-color: var(--fill-color);\n",
              "    }\n",
              "    80% {\n",
              "      border-color: transparent;\n",
              "      border-right-color: var(--fill-color);\n",
              "      border-bottom-color: var(--fill-color);\n",
              "    }\n",
              "    90% {\n",
              "      border-color: transparent;\n",
              "      border-bottom-color: var(--fill-color);\n",
              "    }\n",
              "  }\n",
              "</style>\n",
              "\n",
              "  <script>\n",
              "    async function quickchart(key) {\n",
              "      const quickchartButtonEl =\n",
              "        document.querySelector('#' + key + ' button');\n",
              "      quickchartButtonEl.disabled = true;  // To prevent multiple clicks.\n",
              "      quickchartButtonEl.classList.add('colab-df-spinner');\n",
              "      try {\n",
              "        const charts = await google.colab.kernel.invokeFunction(\n",
              "            'suggestCharts', [key], {});\n",
              "      } catch (error) {\n",
              "        console.error('Error during call to suggestCharts:', error);\n",
              "      }\n",
              "      quickchartButtonEl.classList.remove('colab-df-spinner');\n",
              "      quickchartButtonEl.classList.add('colab-df-quickchart-complete');\n",
              "    }\n",
              "    (() => {\n",
              "      let quickchartButtonEl =\n",
              "        document.querySelector('#df-3ba5e641-1a67-4597-80f0-82dc6bc90fcc button');\n",
              "      quickchartButtonEl.style.display =\n",
              "        google.colab.kernel.accessAllowed ? 'block' : 'none';\n",
              "    })();\n",
              "  </script>\n",
              "</div>\n",
              "\n",
              "    </div>\n",
              "  </div>\n"
            ],
            "application/vnd.google.colaboratory.intrinsic+json": {
              "type": "dataframe",
              "summary": "{\n  \"name\": \"df[df\",\n  \"rows\": 10,\n  \"fields\": [\n    {\n      \"column\": \"ID\",\n      \"properties\": {\n        \"dtype\": \"number\",\n        \"std\": 396,\n        \"min\": 964,\n        \"max\": 2361,\n        \"num_unique_values\": 10,\n        \"samples\": [\n          2251,\n          1735,\n          2091\n        ],\n        \"semantic_type\": \"\",\n        \"description\": \"\"\n      }\n    },\n    {\n      \"column\": \"housing_median_age\",\n      \"properties\": {\n        \"dtype\": \"number\",\n        \"std\": 5.735852159879995,\n        \"min\": 37.0,\n        \"max\": 52.0,\n        \"num_unique_values\": 6,\n        \"samples\": [\n          48.0,\n          37.0,\n          42.0\n        ],\n        \"semantic_type\": \"\",\n        \"description\": \"\"\n      }\n    },\n    {\n      \"column\": \"total_rooms\",\n      \"properties\": {\n        \"dtype\": \"number\",\n        \"std\": 1151.910900296643,\n        \"min\": 220.0,\n        \"max\": 3815.0,\n        \"num_unique_values\": 10,\n        \"samples\": [\n          3815.0,\n          407.0,\n          778.0\n        ],\n        \"semantic_type\": \"\",\n        \"description\": \"\"\n      }\n    },\n    {\n      \"column\": \"total_bedrooms\",\n      \"properties\": {\n        \"dtype\": \"number\",\n        \"std\": 141.90088481440526,\n        \"min\": 32.0,\n        \"max\": 439.0,\n        \"num_unique_values\": 9,\n        \"samples\": [\n          439.0,\n          32.0,\n          293.0\n        ],\n        \"semantic_type\": \"\",\n        \"description\": \"\"\n      }\n    },\n    {\n      \"column\": \"population\",\n      \"properties\": {\n        \"dtype\": \"number\",\n        \"std\": 372.5242572265895,\n        \"min\": 55.0,\n        \"max\": 1266.0,\n        \"num_unique_values\": 10,\n        \"samples\": [\n          1266.0,\n          100.0,\n          238.0\n        ],\n        \"semantic_type\": \"\",\n        \"description\": \"\"\n      }\n    },\n    {\n      \"column\": \"median_income\",\n      \"properties\": {\n        \"dtype\": \"number\",\n        \"std\": 0.0,\n        \"min\": 15.0001,\n        \"max\": 15.0001,\n        \"num_unique_values\": 1,\n        \"samples\": [\n          15.0001\n        ],\n        \"semantic_type\": \"\",\n        \"description\": \"\"\n      }\n    },\n    {\n      \"column\": \"median_house_value\",\n      \"properties\": {\n        \"dtype\": \"number\",\n        \"std\": 116593.49355817416,\n        \"min\": 131300.0,\n        \"max\": 500001.0,\n        \"num_unique_values\": 2,\n        \"samples\": [\n          131300.0\n        ],\n        \"semantic_type\": \"\",\n        \"description\": \"\"\n      }\n    },\n    {\n      \"column\": \"moisture_level\",\n      \"properties\": {\n        \"dtype\": \"number\",\n        \"std\": 24,\n        \"min\": 0,\n        \"max\": 68,\n        \"num_unique_values\": 10,\n        \"samples\": [\n          22\n        ],\n        \"semantic_type\": \"\",\n        \"description\": \"\"\n      }\n    },\n    {\n      \"column\": \"median_floor_count\",\n      \"properties\": {\n        \"dtype\": \"number\",\n        \"std\": 0.2029230834029923,\n        \"min\": 1.01,\n        \"max\": 1.62,\n        \"num_unique_values\": 9,\n        \"samples\": [\n          1.25\n        ],\n        \"semantic_type\": \"\",\n        \"description\": \"\"\n      }\n    },\n    {\n      \"column\": \"target\",\n      \"properties\": {\n        \"dtype\": \"number\",\n        \"std\": 0.31622776601683794,\n        \"min\": 0.0,\n        \"max\": 1.0,\n        \"num_unique_values\": 2,\n        \"samples\": [\n          1.0\n        ],\n        \"semantic_type\": \"\",\n        \"description\": \"\"\n      }\n    },\n    {\n      \"column\": \"architectural_style\",\n      \"properties\": {\n        \"dtype\": \"string\",\n        \"num_unique_values\": 5,\n        \"samples\": [\n          \"Mediterranean\"\n        ],\n        \"semantic_type\": \"\",\n        \"description\": \"\"\n      }\n    },\n    {\n      \"column\": \"community_engagement\",\n      \"properties\": {\n        \"dtype\": \"category\",\n        \"num_unique_values\": 3,\n        \"samples\": [\n          \"medium\"\n        ],\n        \"semantic_type\": \"\",\n        \"description\": \"\"\n      }\n    }\n  ]\n}"
            }
          },
          "metadata": {},
          "execution_count": 1450
        }
      ]
    },
    {
      "cell_type": "code",
      "source": [
        "df.median_income.value_counts() #49 observations at the highest level."
      ],
      "metadata": {
        "colab": {
          "base_uri": "https://localhost:8080/"
        },
        "id": "0aFHH4-Bm66U",
        "outputId": "e5ff826b-d336-44ce-978a-b44d20ba7d54"
      },
      "execution_count": null,
      "outputs": [
        {
          "output_type": "execute_result",
          "data": {
            "text/plain": [
              "median_income\n",
              "3.1250     49\n",
              "15.0001    49\n",
              "2.8750     46\n",
              "2.6250     44\n",
              "4.1250     44\n",
              "           ..\n",
              "0.9889      1\n",
              "2.5553      1\n",
              "7.3719      1\n",
              "5.0150      1\n",
              "5.5551      1\n",
              "Name: count, Length: 12927, dtype: int64"
            ]
          },
          "metadata": {},
          "execution_count": 1451
        }
      ]
    },
    {
      "cell_type": "code",
      "source": [
        "df.median_income.describe(percentiles=np.arange(0,1,0.1))"
      ],
      "metadata": {
        "colab": {
          "base_uri": "https://localhost:8080/"
        },
        "id": "W8W_sODhORd9",
        "outputId": "5e6b9c77-02d7-4dae-fb9c-e7e2a5d850b1"
      },
      "execution_count": null,
      "outputs": [
        {
          "output_type": "execute_result",
          "data": {
            "text/plain": [
              "count    20635.000000\n",
              "mean         3.870944\n",
              "std          1.899961\n",
              "min          0.499900\n",
              "0%           0.499900\n",
              "10%          1.903800\n",
              "20%          2.352300\n",
              "30%          2.740500\n",
              "40%          3.140600\n",
              "50%          3.535200\n",
              "60%          3.967640\n",
              "70%          4.437500\n",
              "80%          5.109820\n",
              "90%          6.159260\n",
              "max         15.000100\n",
              "Name: median_income, dtype: float64"
            ]
          },
          "metadata": {},
          "execution_count": 1452
        }
      ]
    },
    {
      "cell_type": "code",
      "source": [
        "quantiles = np.arange(0.95,1,0.01)\n",
        "for i, quantile in enumerate(quantiles):\n",
        "  print(f\"quantile {0.95+i/100} =\", df.median_income.quantile(quantile))"
      ],
      "metadata": {
        "colab": {
          "base_uri": "https://localhost:8080/"
        },
        "id": "v0WsE0sel1iV",
        "outputId": "75a8bff4-b7c0-424d-9b68-1c7181c9e10c"
      },
      "execution_count": null,
      "outputs": [
        {
          "output_type": "stream",
          "name": "stdout",
          "text": [
            "quantile 0.95 = 7.30033\n",
            "quantile 0.96 = 7.7197\n",
            "quantile 0.97 = 8.161069999999999\n",
            "quantile 0.98 = 8.947999999999997\n",
            "quantile 0.99 = 10.596739999999999\n",
            "quantile 1.0 = 15.0001\n"
          ]
        }
      ]
    },
    {
      "cell_type": "markdown",
      "source": [
        "An interesting thing is there are a lot of entries with the largest observation (15.0001). This repetition at a high level might be due to data entry errors or the column being capped at the value 15.0001. We don't know if the data is capped due to a data collection policy or other legitimate reason, therefore to avoid skewing our analysis results, I am going to drop them. We could also perform a separate analysis if we knew more about the data collection policy."
      ],
      "metadata": {
        "id": "2TmJSTAbm0dS"
      }
    },
    {
      "cell_type": "code",
      "source": [
        "df_dropped = df[df.median_income != 15.0001]"
      ],
      "metadata": {
        "id": "6IootjeZMZPJ"
      },
      "execution_count": null,
      "outputs": []
    },
    {
      "cell_type": "code",
      "source": [
        "df_dropped['income_bin'] = pd.qcut(df_dropped['median_income'], q=20, labels=False, duplicates='drop')"
      ],
      "metadata": {
        "colab": {
          "base_uri": "https://localhost:8080/"
        },
        "id": "VerX6MR8mSmM",
        "outputId": "5f41227b-57db-4d47-8b7b-d6112088c6d2"
      },
      "execution_count": null,
      "outputs": [
        {
          "output_type": "stream",
          "name": "stderr",
          "text": [
            "<ipython-input-1455-ac801693bc2c>:1: SettingWithCopyWarning: \n",
            "A value is trying to be set on a copy of a slice from a DataFrame.\n",
            "Try using .loc[row_indexer,col_indexer] = value instead\n",
            "\n",
            "See the caveats in the documentation: https://pandas.pydata.org/pandas-docs/stable/user_guide/indexing.html#returning-a-view-versus-a-copy\n",
            "  df_dropped['income_bin'] = pd.qcut(df_dropped['median_income'], q=20, labels=False, duplicates='drop')\n"
          ]
        }
      ]
    },
    {
      "cell_type": "markdown",
      "source": [
        "Visualizing the proportion of houses with seaside based on income bins that are created through quantiles:"
      ],
      "metadata": {
        "id": "MSA8EWrjPrnz"
      }
    },
    {
      "cell_type": "code",
      "source": [
        "mean_target_per_bin = df_dropped.groupby('income_bin')['target'].mean()\n",
        "\n",
        "plt.figure(figsize=(10, 6))\n",
        "plt.plot(mean_target_per_bin, marker='o')\n",
        "plt.xlabel('Income Bin (Quantiles)')\n",
        "plt.ylabel('Mean Target Value')\n",
        "plt.title('Mean Target Value per Income Bin')\n",
        "plt.grid(True)\n",
        "plt.xticks(ticks=range(len(mean_target_per_bin)), rotation=45,ha='right')\n",
        "plt.show()"
      ],
      "metadata": {
        "colab": {
          "base_uri": "https://localhost:8080/",
          "height": 573
        },
        "id": "N6tQlltoM5Tz",
        "outputId": "c48dfbd3-d5e6-43ba-8b41-7f1e4923b9a0"
      },
      "execution_count": null,
      "outputs": [
        {
          "output_type": "display_data",
          "data": {
            "text/plain": [
              "<Figure size 1000x600 with 1 Axes>"
            ],
            "image/png": "[encoded data removed]"
          },
          "metadata": {}
        }
      ]
    },
    {
      "cell_type": "markdown",
      "source": [
        "#### median_house_value"
      ],
      "metadata": {
        "id": "AJLhDu1oS6pg"
      }
    },
    {
      "cell_type": "code",
      "source": [
        "df['median_house_value'].describe(percentiles=np.arange(0,1,0.10))"
      ],
      "metadata": {
        "colab": {
          "base_uri": "https://localhost:8080/"
        },
        "id": "ON3OyrTANuW0",
        "outputId": "66a96f60-8b47-4d8c-dc84-fe660a74a625"
      },
      "execution_count": null,
      "outputs": [
        {
          "output_type": "execute_result",
          "data": {
            "text/plain": [
              "count     20635.000000\n",
              "mean     206813.756288\n",
              "std      115372.499511\n",
              "min       14999.000000\n",
              "0%        14999.000000\n",
              "10%       82300.000000\n",
              "20%      107200.000000\n",
              "30%      134000.000000\n",
              "40%      157300.000000\n",
              "50%      179700.000000\n",
              "60%      209300.000000\n",
              "70%      241900.000000\n",
              "80%      289900.000000\n",
              "90%      376200.000000\n",
              "max      500001.000000\n",
              "Name: median_house_value, dtype: float64"
            ]
          },
          "metadata": {},
          "execution_count": 1457
        }
      ]
    },
    {
      "cell_type": "code",
      "source": [
        "IQR = df.median_house_value.quantile(0.75)-df.median_house_value.quantile(0.25)\n",
        "UB = df.median_house_value.quantile(0.75) + 1.5 * IQR\n",
        "LB = max(df.median_house_value.quantile(0.25) - 1.5 * IQR, 0) # Since it cannot be negative\n",
        "print(f\"The lower bound for outliers is: {LB}\")\n",
        "print(f\"The upper bound for outliers is: {UB}\")\n",
        "\n",
        "outlier_count = len(df[(df.median_house_value > UB) | (df.median_house_value < LB)])\n",
        "print(f\"Proportion of outliers is: {outlier_count/len(df)}\")"
      ],
      "metadata": {
        "colab": {
          "base_uri": "https://localhost:8080/"
        },
        "id": "y_w0HGmjUfZW",
        "outputId": "64c5d3bc-47c0-401a-87d2-98bf73f0ba3c"
      },
      "execution_count": null,
      "outputs": [
        {
          "output_type": "stream",
          "name": "stdout",
          "text": [
            "The lower bound for outliers is: 0\n",
            "The upper bound for outliers is: 482350.0\n",
            "Proportion of outliers is: 0.05190210806881512\n"
          ]
        }
      ]
    },
    {
      "cell_type": "code",
      "source": [
        "sns.boxplot(data=df, y='median_house_value')"
      ],
      "metadata": {
        "colab": {
          "base_uri": "https://localhost:8080/",
          "height": 428
        },
        "id": "zi5HJsejdyQD",
        "outputId": "ef4f1551-f97c-42f2-f24d-9fba09ac6489"
      },
      "execution_count": null,
      "outputs": [
        {
          "output_type": "execute_result",
          "data": {
            "text/plain": [
              "<Axes: ylabel='median_house_value'>"
            ]
          },
          "metadata": {},
          "execution_count": 1459
        },
        {
          "output_type": "display_data",
          "data": {
            "text/plain": [
              "<Figure size 640x480 with 1 Axes>"
            ],
            "image/png": "[encoded data removed]"
          },
          "metadata": {}
        }
      ]
    },
    {
      "cell_type": "code",
      "source": [
        "df.median_house_value.value_counts().sort_index(ascending=False)"
      ],
      "metadata": {
        "colab": {
          "base_uri": "https://localhost:8080/"
        },
        "id": "h1-5afvedy7D",
        "outputId": "5d5f8acf-384a-4c78-dd73-4253942d36cd"
      },
      "execution_count": null,
      "outputs": [
        {
          "output_type": "execute_result",
          "data": {
            "text/plain": [
              "median_house_value\n",
              "500001.0    965\n",
              "500000.0     27\n",
              "499100.0      1\n",
              "499000.0      1\n",
              "498800.0      1\n",
              "           ... \n",
              "26600.0       1\n",
              "25000.0       1\n",
              "22500.0       4\n",
              "17500.0       1\n",
              "14999.0       4\n",
              "Name: count, Length: 3842, dtype: int64"
            ]
          },
          "metadata": {},
          "execution_count": 1460
        }
      ]
    },
    {
      "cell_type": "markdown",
      "source": [
        "The repeated high value of 5000001 suggests that it is a capped value. Since it constitutes valuable information, I will not drop them, however knowing more about the collection of this data might help in understanding what to do (possibly performing a separate analysis on capped values)."
      ],
      "metadata": {
        "id": "24xtjBduqW1t"
      }
    },
    {
      "cell_type": "markdown",
      "source": [
        "moisture_level"
      ],
      "metadata": {
        "id": "0pEL5Pn945PQ"
      }
    },
    {
      "cell_type": "code",
      "source": [
        "df.moisture_level.describe(percentiles=np.arange(0,1,0.1))"
      ],
      "metadata": {
        "id": "AhZxlg2NpIld",
        "colab": {
          "base_uri": "https://localhost:8080/"
        },
        "outputId": "8c87c4eb-45f1-4abe-953a-2246a6e9faf7"
      },
      "execution_count": null,
      "outputs": [
        {
          "output_type": "execute_result",
          "data": {
            "text/plain": [
              "count    20635.000000\n",
              "mean        47.251708\n",
              "std         25.600932\n",
              "min          0.000000\n",
              "0%           0.000000\n",
              "10%         10.000000\n",
              "20%         21.000000\n",
              "30%         32.000000\n",
              "40%         41.000000\n",
              "50%         49.000000\n",
              "60%         57.000000\n",
              "70%         64.000000\n",
              "80%         71.000000\n",
              "90%         79.000000\n",
              "max        100.000000\n",
              "Name: moisture_level, dtype: float64"
            ]
          },
          "metadata": {},
          "execution_count": 1461
        }
      ]
    },
    {
      "cell_type": "code",
      "source": [
        "IQR = df.moisture_level.quantile(0.75)-df.moisture_level.quantile(0.25)\n",
        "UB = df.moisture_level.quantile(0.75) + 1.5 * IQR\n",
        "LB = max(df.moisture_level.quantile(0.25) - 1.5 * IQR, 0) # Since it cannot be negative\n",
        "print(f\"The lower bound for outliers is: {LB}\")\n",
        "print(f\"The upper bound for outliers is: {UB}\")\n",
        "\n",
        "outlier_count = len(df[(df.moisture_level > UB) | (df.moisture_level < LB)])\n",
        "print(f\"Proportion of outliers is: {outlier_count/len(df)}\")"
      ],
      "metadata": {
        "colab": {
          "base_uri": "https://localhost:8080/"
        },
        "id": "WcjgDLo95XJV",
        "outputId": "fe335710-6d4f-4d5d-8776-63e7b35ba649"
      },
      "execution_count": null,
      "outputs": [
        {
          "output_type": "stream",
          "name": "stdout",
          "text": [
            "The lower bound for outliers is: 0\n",
            "The upper bound for outliers is: 131.0\n",
            "Proportion of outliers is: 0.0\n"
          ]
        }
      ]
    },
    {
      "cell_type": "markdown",
      "source": [
        "median_floor_count"
      ],
      "metadata": {
        "id": "uhVYDABU4-KG"
      }
    },
    {
      "cell_type": "code",
      "source": [
        "df.median_floor_count.describe(percentiles=np.arange(0,1,0.1))"
      ],
      "metadata": {
        "colab": {
          "base_uri": "https://localhost:8080/"
        },
        "id": "SbOpp8rM4-_7",
        "outputId": "b49ad725-b38a-4b53-861f-3cde3a9ffe78"
      },
      "execution_count": null,
      "outputs": [
        {
          "output_type": "execute_result",
          "data": {
            "text/plain": [
              "count    20635.000000\n",
              "mean         1.312169\n",
              "std          0.219212\n",
              "min          1.000000\n",
              "0%           1.000000\n",
              "10%          1.050000\n",
              "20%          1.110000\n",
              "30%          1.170000\n",
              "40%          1.230000\n",
              "50%          1.290000\n",
              "60%          1.350000\n",
              "70%          1.400000\n",
              "80%          1.460000\n",
              "90%          1.590000\n",
              "max          2.000000\n",
              "Name: median_floor_count, dtype: float64"
            ]
          },
          "metadata": {},
          "execution_count": 1463
        }
      ]
    },
    {
      "cell_type": "markdown",
      "source": [
        "### Categorical Variables"
      ],
      "metadata": {
        "id": "hj8ZoMf866gQ"
      }
    },
    {
      "cell_type": "code",
      "source": [
        "dummy_vars = ['architectural_style', 'community_engagement']\n",
        "fig, ax = plt.subplots(nrows=1,ncols=2, figsize=(15,5))\n",
        "for i, col in enumerate(dummy_vars):\n",
        "  sns.countplot(data=df,\n",
        "                x=col,\n",
        "                ax=ax[i])"
      ],
      "metadata": {
        "colab": {
          "base_uri": "https://localhost:8080/",
          "height": 382
        },
        "id": "9xXvS-E1_umM",
        "outputId": "3b769f6d-8ea1-4940-ff11-7f15ab5486ee"
      },
      "execution_count": null,
      "outputs": [
        {
          "output_type": "display_data",
          "data": {
            "text/plain": [
              "<Figure size 1500x500 with 2 Axes>"
            ],
            "image/png": "[encoded data removed]"
          },
          "metadata": {}
        }
      ]
    },
    {
      "cell_type": "markdown",
      "source": [
        "#### architectural_style"
      ],
      "metadata": {
        "id": "2qUg_frE7JFB"
      }
    },
    {
      "cell_type": "code",
      "source": [
        "df.architectural_style.value_counts()"
      ],
      "metadata": {
        "colab": {
          "base_uri": "https://localhost:8080/"
        },
        "id": "MDG0z_wq68Oh",
        "outputId": "5ea2a515-05dc-4c5a-963d-415b1307e673"
      },
      "execution_count": null,
      "outputs": [
        {
          "output_type": "execute_result",
          "data": {
            "text/plain": [
              "architectural_style\n",
              "Mediterranean    3757\n",
              "Contemporary     3756\n",
              "Modern           3750\n",
              "Colonial         3735\n",
              "Victorian        3574\n",
              "Name: count, dtype: int64"
            ]
          },
          "metadata": {},
          "execution_count": 1465
        }
      ]
    },
    {
      "cell_type": "code",
      "source": [
        "df.architectural_style.isna().sum()"
      ],
      "metadata": {
        "colab": {
          "base_uri": "https://localhost:8080/"
        },
        "id": "Qprh2g087WsJ",
        "outputId": "9184b6d2-36bd-4b12-af47-4507c8308aa9"
      },
      "execution_count": null,
      "outputs": [
        {
          "output_type": "execute_result",
          "data": {
            "text/plain": [
              "2063"
            ]
          },
          "metadata": {},
          "execution_count": 1466
        }
      ]
    },
    {
      "cell_type": "markdown",
      "source": [
        "The houses are pretty evenly distributed across architectural styles, and we have a large enough sample size for each of them to be able to conduct an unbiased analysis. Around 10% of our data is missing. We can use KNN imputing to impute the rest, as architectural style might provide valuable information. However, it might be tricky for the imputer to accurately predict the achitectural style, therefore I will just handle them as a different dummy variable, Unknown."
      ],
      "metadata": {
        "id": "Ob_WtrAs7kUG"
      }
    },
    {
      "cell_type": "code",
      "source": [
        "df['architectural_style'] = df['architectural_style'].fillna('Unknown_architecture')"
      ],
      "metadata": {
        "id": "Pv4NlG0l-xB4"
      },
      "execution_count": null,
      "outputs": []
    },
    {
      "cell_type": "markdown",
      "source": [
        "#### community_engagement"
      ],
      "metadata": {
        "id": "AHskELrf7LY7"
      }
    },
    {
      "cell_type": "code",
      "source": [
        "df.community_engagement.value_counts()"
      ],
      "metadata": {
        "colab": {
          "base_uri": "https://localhost:8080/"
        },
        "id": "C8DQ2hqO7deP",
        "outputId": "1b6c2ee5-fc2d-4e8c-a017-1bc03ec54758"
      },
      "execution_count": null,
      "outputs": [
        {
          "output_type": "execute_result",
          "data": {
            "text/plain": [
              "community_engagement\n",
              "medium    5606\n",
              "high      5476\n",
              "low       5426\n",
              "Name: count, dtype: int64"
            ]
          },
          "metadata": {},
          "execution_count": 1468
        }
      ]
    },
    {
      "cell_type": "code",
      "source": [
        "df.community_engagement.isna().sum()"
      ],
      "metadata": {
        "colab": {
          "base_uri": "https://localhost:8080/"
        },
        "id": "31_BlGhR7OEZ",
        "outputId": "bb63635c-e91e-4ede-d078-0b348876aa04"
      },
      "execution_count": null,
      "outputs": [
        {
          "output_type": "execute_result",
          "data": {
            "text/plain": [
              "4127"
            ]
          },
          "metadata": {},
          "execution_count": 1469
        }
      ]
    },
    {
      "cell_type": "markdown",
      "source": [
        "Similar situation with community engagement, but instead we have around 20% of the data missing, and there clearly is an ordinal relationship. However, The features don't seem to impact our target variable, and imputing 20% of the data can be inaccurate. We are likely not going to use this feature."
      ],
      "metadata": {
        "id": "wv62CGVU-Tz3"
      }
    },
    {
      "cell_type": "code",
      "source": [
        "df['community_engagement'] = df['community_engagement'].fillna('Unknown_engagement')"
      ],
      "metadata": {
        "id": "_sgBYAlr-_HL"
      },
      "execution_count": null,
      "outputs": []
    },
    {
      "cell_type": "code",
      "source": [
        "arch_style_means = df.groupby('architectural_style')['target'].mean().reset_index()\n",
        "\n",
        "comm_engagement_means = df.groupby('community_engagement')['target'].mean().reset_index()\n",
        "\n",
        "\n",
        "fig, ax = plt.subplots(nrows=1, ncols=2, figsize=(15, 5))\n",
        "\n",
        "sns.barplot(data=arch_style_means, x='architectural_style', y='target', ax=ax[0])\n",
        "ax[0].set_ylabel('Proportion of Seaside Houses')\n",
        "ax[0].set_title('Proportion of Seaside Houses per Architectural Style')\n",
        "\n",
        "\n",
        "sns.barplot(data=comm_engagement_means, x='community_engagement', y='target', ax=ax[1])\n",
        "ax[1].set_ylabel('Proportion of Seaside Houses')\n",
        "ax[1].set_title('Proportion of Seaside Houses per Community Engagement')\n",
        "\n",
        "plt.tight_layout()\n",
        "plt.show();"
      ],
      "metadata": {
        "colab": {
          "base_uri": "https://localhost:8080/",
          "height": 351
        },
        "id": "MkQtq1MiA7Hn",
        "outputId": "5c1e5cdf-2781-4fdd-8680-484e5b702921"
      },
      "execution_count": null,
      "outputs": [
        {
          "output_type": "display_data",
          "data": {
            "text/plain": [
              "<Figure size 1500x500 with 2 Axes>"
            ],
            "image/png": "[encoded data removed]"
          },
          "metadata": {}
        }
      ]
    },
    {
      "cell_type": "markdown",
      "source": [
        "Unknown engagement is the most observed category within community engagement, therefore I am choosing to drop this feature."
      ],
      "metadata": {
        "id": "kKNlfjbJX3zP"
      }
    },
    {
      "cell_type": "code",
      "source": [
        "df = df.drop(columns=['community_engagement'])"
      ],
      "metadata": {
        "id": "2VvhVCrSYJ9x"
      },
      "execution_count": null,
      "outputs": []
    },
    {
      "cell_type": "markdown",
      "source": [
        "# Feature Engineering"
      ],
      "metadata": {
        "id": "O8VUR2Hp_cH9"
      }
    },
    {
      "cell_type": "markdown",
      "source": [
        "population and median_income indices to exclude"
      ],
      "metadata": {
        "id": "f_MElLSjDixU"
      }
    },
    {
      "cell_type": "code",
      "source": [
        "indices_population = df['population'].nlargest(2).index\n",
        "indices_income = df[df['population']==15.0001].index\n",
        "combined_indices = indices_population.union(indices_income)\n",
        "df = df.drop(combined_indices)"
      ],
      "metadata": {
        "id": "7_8UwXU8DzCW"
      },
      "execution_count": null,
      "outputs": []
    },
    {
      "cell_type": "code",
      "source": [
        "df.total_bedrooms"
      ],
      "metadata": {
        "colab": {
          "base_uri": "https://localhost:8080/"
        },
        "id": "lkgRPSoAYm3O",
        "outputId": "ae445a8c-ea20-4f8e-81be-b9f19ee4fe68"
      },
      "execution_count": null,
      "outputs": [
        {
          "output_type": "execute_result",
          "data": {
            "text/plain": [
              "ID\n",
              "0         982.0\n",
              "1         369.0\n",
              "2         332.0\n",
              "3         487.0\n",
              "4        1081.0\n",
              "          ...  \n",
              "20630     134.0\n",
              "20631     396.0\n",
              "20632     597.0\n",
              "20633     375.0\n",
              "20634     605.0\n",
              "Name: total_bedrooms, Length: 20633, dtype: float64"
            ]
          },
          "metadata": {},
          "execution_count": 1474
        }
      ]
    },
    {
      "cell_type": "markdown",
      "source": [
        "Imputing the missing values in total_bedrooms using KNNImputing: \\\\\n",
        " Since total_bedrooms is highly correlated with total_rooms and population as seen in the correlation heatmap, I am going to use those columns to impute the missing values."
      ],
      "metadata": {
        "id": "OFpRfBhCNL1K"
      }
    },
    {
      "cell_type": "code",
      "source": [
        "cols_for_imputation = ['total_rooms', 'population', 'total_bedrooms']\n",
        "temp = df[cols_for_imputation]\n",
        "scaler = StandardScaler()\n",
        "\n",
        "scaled_data = scaler.fit_transform(temp)\n",
        "#Initializing KNNImputer\n",
        "imputer = KNNImputer(n_neighbors=3)\n",
        "imputed_scaled_data = imputer.fit_transform(scaled_data)\n",
        "\n",
        "#Converting back to the original scale\n",
        "imputed_data = scaler.inverse_transform(imputed_scaled_data)"
      ],
      "metadata": {
        "id": "bjGj9LVFR6V0"
      },
      "execution_count": null,
      "outputs": []
    },
    {
      "cell_type": "code",
      "source": [
        "df['total_bedrooms'] = imputed_data[:,-1]"
      ],
      "metadata": {
        "id": "EGiGeJskaE8W"
      },
      "execution_count": null,
      "outputs": []
    },
    {
      "cell_type": "markdown",
      "source": [
        "#### Creating new potentially helpful features"
      ],
      "metadata": {
        "id": "Eh6Z-GaklbiC"
      }
    },
    {
      "cell_type": "markdown",
      "source": [
        "Rooms per household"
      ],
      "metadata": {
        "id": "HNO2aj0fljCa"
      }
    },
    {
      "cell_type": "code",
      "source": [
        "df['population_density'] = df['population'] / df['total_rooms']"
      ],
      "metadata": {
        "id": "tAOc5HLUlf4r"
      },
      "execution_count": null,
      "outputs": []
    },
    {
      "cell_type": "markdown",
      "source": [
        "Rooms to Bedrooms ratio"
      ],
      "metadata": {
        "id": "lxMwHsQKKm2_"
      }
    },
    {
      "cell_type": "code",
      "source": [
        "df['bedroom_ratio'] = df['total_bedrooms'] / df['total_rooms']"
      ],
      "metadata": {
        "id": "AkYrjC9dLCLv"
      },
      "execution_count": null,
      "outputs": []
    },
    {
      "cell_type": "markdown",
      "source": [
        "Performing the log transformations"
      ],
      "metadata": {
        "id": "AqU44LZpGeim"
      }
    },
    {
      "cell_type": "code",
      "source": [
        "df['population'] = np.log1p(df['population'])\n",
        "df['median_income'] = np.log1p(df['population'])\n",
        "df['total_rooms'] = np.log1p(df['total_rooms'])\n",
        "df['total_bedrooms'] = np.log1p(df['total_bedrooms'])\n",
        "df['median_house_value'] = np.log1p(df['median_house_value'])"
      ],
      "metadata": {
        "id": "0BLZ8Y6rEuJA"
      },
      "execution_count": null,
      "outputs": []
    },
    {
      "cell_type": "code",
      "source": [
        "df.describe()"
      ],
      "metadata": {
        "colab": {
          "base_uri": "https://localhost:8080/",
          "height": 320
        },
        "id": "5XOpAlLkGmy_",
        "outputId": "a31f84b8-7d63-4587-b40b-97d61e634267"
      },
      "execution_count": null,
      "outputs": [
        {
          "output_type": "execute_result",
          "data": {
            "text/plain": [
              "       housing_median_age   total_rooms  total_bedrooms    population  \\\n",
              "count        20633.000000  20633.000000    20633.000000  20633.000000   \n",
              "mean            28.637716      7.629209        6.054581      7.025325   \n",
              "std             12.583523      0.749614        0.725946      0.735535   \n",
              "min              1.000000      1.098612        0.693147      1.386294   \n",
              "25%             18.000000      7.278629        5.693732      6.669498   \n",
              "50%             29.000000      7.662938        6.077642      7.062192   \n",
              "75%             37.000000      8.054840        6.473891      7.453562   \n",
              "max             52.000000     10.579514        8.734077      9.699288   \n",
              "\n",
              "       median_income  median_house_value  moisture_level  median_floor_count  \\\n",
              "count   20633.000000        20633.000000    20633.000000        20633.000000   \n",
              "mean        2.077939           12.084743       47.252217            1.312184   \n",
              "std         0.099732            0.569091       25.600182            0.219215   \n",
              "min         0.869742            9.615805        0.000000            1.000000   \n",
              "25%         2.037251           11.691916       26.000000            1.140000   \n",
              "50%         2.087185           12.099050       49.000000            1.290000   \n",
              "75%         2.134588           12.486356       68.000000            1.430000   \n",
              "max         2.370177           13.122367      100.000000            2.000000   \n",
              "\n",
              "             target  population_density  bedroom_ratio  \n",
              "count  20633.000000        20633.000000   20633.000000  \n",
              "mean       0.239810            0.619569       0.213053  \n",
              "std        0.426978            2.895397       0.057832  \n",
              "min        0.000000            0.018109       0.100000  \n",
              "25%        0.000000            0.435530       0.175507  \n",
              "50%        0.000000            0.516014       0.203264  \n",
              "75%        0.000000            0.656863       0.239762  \n",
              "max        1.000000          392.631579       1.000000  "
            ],
            "text/html": [
              "\n",
              "  <div id=\"df-55d4a702-2999-4bd8-8e11-f8032ee82849\" class=\"colab-df-container\">\n",
              "    <div>\n",
              "<style scoped>\n",
              "    .dataframe tbody tr th:only-of-type {\n",
              "        vertical-align: middle;\n",
              "    }\n",
              "\n",
              "    .dataframe tbody tr th {\n",
              "        vertical-align: top;\n",
              "    }\n",
              "\n",
              "    .dataframe thead th {\n",
              "        text-align: right;\n",
              "    }\n",
              "</style>\n",
              "<table border=\"1\" class=\"dataframe\">\n",
              "  <thead>\n",
              "    <tr style=\"text-align: right;\">\n",
              "      <th></th>\n",
              "      <th>housing_median_age</th>\n",
              "      <th>total_rooms</th>\n",
              "      <th>total_bedrooms</th>\n",
              "      <th>population</th>\n",
              "      <th>median_income</th>\n",
              "      <th>median_house_value</th>\n",
              "      <th>moisture_level</th>\n",
              "      <th>median_floor_count</th>\n",
              "      <th>target</th>\n",
              "      <th>population_density</th>\n",
              "      <th>bedroom_ratio</th>\n",
              "    </tr>\n",
              "  </thead>\n",
              "  <tbody>\n",
              "    <tr>\n",
              "      <th>count</th>\n",
              "      <td>20633.000000</td>\n",
              "      <td>20633.000000</td>\n",
              "      <td>20633.000000</td>\n",
              "      <td>20633.000000</td>\n",
              "      <td>20633.000000</td>\n",
              "      <td>20633.000000</td>\n",
              "      <td>20633.000000</td>\n",
              "      <td>20633.000000</td>\n",
              "      <td>20633.000000</td>\n",
              "      <td>20633.000000</td>\n",
              "      <td>20633.000000</td>\n",
              "    </tr>\n",
              "    <tr>\n",
              "      <th>mean</th>\n",
              "      <td>28.637716</td>\n",
              "      <td>7.629209</td>\n",
              "      <td>6.054581</td>\n",
              "      <td>7.025325</td>\n",
              "      <td>2.077939</td>\n",
              "      <td>12.084743</td>\n",
              "      <td>47.252217</td>\n",
              "      <td>1.312184</td>\n",
              "      <td>0.239810</td>\n",
              "      <td>0.619569</td>\n",
              "      <td>0.213053</td>\n",
              "    </tr>\n",
              "    <tr>\n",
              "      <th>std</th>\n",
              "      <td>12.583523</td>\n",
              "      <td>0.749614</td>\n",
              "      <td>0.725946</td>\n",
              "      <td>0.735535</td>\n",
              "      <td>0.099732</td>\n",
              "      <td>0.569091</td>\n",
              "      <td>25.600182</td>\n",
              "      <td>0.219215</td>\n",
              "      <td>0.426978</td>\n",
              "      <td>2.895397</td>\n",
              "      <td>0.057832</td>\n",
              "    </tr>\n",
              "    <tr>\n",
              "      <th>min</th>\n",
              "      <td>1.000000</td>\n",
              "      <td>1.098612</td>\n",
              "      <td>0.693147</td>\n",
              "      <td>1.386294</td>\n",
              "      <td>0.869742</td>\n",
              "      <td>9.615805</td>\n",
              "      <td>0.000000</td>\n",
              "      <td>1.000000</td>\n",
              "      <td>0.000000</td>\n",
              "      <td>0.018109</td>\n",
              "      <td>0.100000</td>\n",
              "    </tr>\n",
              "    <tr>\n",
              "      <th>25%</th>\n",
              "      <td>18.000000</td>\n",
              "      <td>7.278629</td>\n",
              "      <td>5.693732</td>\n",
              "      <td>6.669498</td>\n",
              "      <td>2.037251</td>\n",
              "      <td>11.691916</td>\n",
              "      <td>26.000000</td>\n",
              "      <td>1.140000</td>\n",
              "      <td>0.000000</td>\n",
              "      <td>0.435530</td>\n",
              "      <td>0.175507</td>\n",
              "    </tr>\n",
              "    <tr>\n",
              "      <th>50%</th>\n",
              "      <td>29.000000</td>\n",
              "      <td>7.662938</td>\n",
              "      <td>6.077642</td>\n",
              "      <td>7.062192</td>\n",
              "      <td>2.087185</td>\n",
              "      <td>12.099050</td>\n",
              "      <td>49.000000</td>\n",
              "      <td>1.290000</td>\n",
              "      <td>0.000000</td>\n",
              "      <td>0.516014</td>\n",
              "      <td>0.203264</td>\n",
              "    </tr>\n",
              "    <tr>\n",
              "      <th>75%</th>\n",
              "      <td>37.000000</td>\n",
              "      <td>8.054840</td>\n",
              "      <td>6.473891</td>\n",
              "      <td>7.453562</td>\n",
              "      <td>2.134588</td>\n",
              "      <td>12.486356</td>\n",
              "      <td>68.000000</td>\n",
              "      <td>1.430000</td>\n",
              "      <td>0.000000</td>\n",
              "      <td>0.656863</td>\n",
              "      <td>0.239762</td>\n",
              "    </tr>\n",
              "    <tr>\n",
              "      <th>max</th>\n",
              "      <td>52.000000</td>\n",
              "      <td>10.579514</td>\n",
              "      <td>8.734077</td>\n",
              "      <td>9.699288</td>\n",
              "      <td>2.370177</td>\n",
              "      <td>13.122367</td>\n",
              "      <td>100.000000</td>\n",
              "      <td>2.000000</td>\n",
              "      <td>1.000000</td>\n",
              "      <td>392.631579</td>\n",
              "      <td>1.000000</td>\n",
              "    </tr>\n",
              "  </tbody>\n",
              "</table>\n",
              "</div>\n",
              "    <div class=\"colab-df-buttons\">\n",
              "\n",
              "  <div class=\"colab-df-container\">\n",
              "    <button class=\"colab-df-convert\" onclick=\"convertToInteractive('df-55d4a702-2999-4bd8-8e11-f8032ee82849')\"\n",
              "            title=\"Convert this dataframe to an interactive table.\"\n",
              "            style=\"display:none;\">\n",
              "\n",
              "  <svg xmlns=\"http://www.w3.org/2000/svg\" height=\"24px\" viewBox=\"0 -960 960 960\">\n",
              "    <path d=\"M120-120v-720h720v720H120Zm60-500h600v-160H180v160Zm220 220h160v-160H400v160Zm0 220h160v-160H400v160ZM180-400h160v-160H180v160Zm440 0h160v-160H620v160ZM180-180h160v-160H180v160Zm440 0h160v-160H620v160Z\"/>\n",
              "  </svg>\n",
              "    </button>\n",
              "\n",
              "  <style>\n",
              "    .colab-df-container {\n",
              "      display:flex;\n",
              "      gap: 12px;\n",
              "    }\n",
              "\n",
              "    .colab-df-convert {\n",
              "      background-color: #E8F0FE;\n",
              "      border: none;\n",
              "      border-radius: 50%;\n",
              "      cursor: pointer;\n",
              "      display: none;\n",
              "      fill: #1967D2;\n",
              "      height: 32px;\n",
              "      padding: 0 0 0 0;\n",
              "      width: 32px;\n",
              "    }\n",
              "\n",
              "    .colab-df-convert:hover {\n",
              "      background-color: #E2EBFA;\n",
              "      box-shadow: 0px 1px 2px rgba(60, 64, 67, 0.3), 0px 1px 3px 1px rgba(60, 64, 67, 0.15);\n",
              "      fill: #174EA6;\n",
              "    }\n",
              "\n",
              "    .colab-df-buttons div {\n",
              "      margin-bottom: 4px;\n",
              "    }\n",
              "\n",
              "    [theme=dark] .colab-df-convert {\n",
              "      background-color: #3B4455;\n",
              "      fill: #D2E3FC;\n",
              "    }\n",
              "\n",
              "    [theme=dark] .colab-df-convert:hover {\n",
              "      background-color: #434B5C;\n",
              "      box-shadow: 0px 1px 3px 1px rgba(0, 0, 0, 0.15);\n",
              "      filter: drop-shadow(0px 1px 2px rgba(0, 0, 0, 0.3));\n",
              "      fill: #FFFFFF;\n",
              "    }\n",
              "  </style>\n",
              "\n",
              "    <script>\n",
              "      const buttonEl =\n",
              "        document.querySelector('#df-55d4a702-2999-4bd8-8e11-f8032ee82849 button.colab-df-convert');\n",
              "      buttonEl.style.display =\n",
              "        google.colab.kernel.accessAllowed ? 'block' : 'none';\n",
              "\n",
              "      async function convertToInteractive(key) {\n",
              "        const element = document.querySelector('#df-55d4a702-2999-4bd8-8e11-f8032ee82849');\n",
              "        const dataTable =\n",
              "          await google.colab.kernel.invokeFunction('convertToInteractive',\n",
              "                                                    [key], {});\n",
              "        if (!dataTable) return;\n",
              "\n",
              "        const docLinkHtml = 'Like what you see? Visit the ' +\n",
              "          '<a target=\"_blank\" href=https://colab.research.google.com/notebooks/data_table.ipynb>data table notebook</a>'\n",
              "          + ' to learn more about interactive tables.';\n",
              "        element.innerHTML = '';\n",
              "        dataTable['output_type'] = 'display_data';\n",
              "        await google.colab.output.renderOutput(dataTable, element);\n",
              "        const docLink = document.createElement('div');\n",
              "        docLink.innerHTML = docLinkHtml;\n",
              "        element.appendChild(docLink);\n",
              "      }\n",
              "    </script>\n",
              "  </div>\n",
              "\n",
              "\n",
              "<div id=\"df-4e52bfcc-1233-4064-9323-8f926f163926\">\n",
              "  <button class=\"colab-df-quickchart\" onclick=\"quickchart('df-4e52bfcc-1233-4064-9323-8f926f163926')\"\n",
              "            title=\"Suggest charts\"\n",
              "            style=\"display:none;\">\n",
              "\n",
              "<svg xmlns=\"http://www.w3.org/2000/svg\" height=\"24px\"viewBox=\"0 0 24 24\"\n",
              "     width=\"24px\">\n",
              "    <g>\n",
              "        <path d=\"M19 3H5c-1.1 0-2 .9-2 2v14c0 1.1.9 2 2 2h14c1.1 0 2-.9 2-2V5c0-1.1-.9-2-2-2zM9 17H7v-7h2v7zm4 0h-2V7h2v10zm4 0h-2v-4h2v4z\"/>\n",
              "    </g>\n",
              "</svg>\n",
              "  </button>\n",
              "\n",
              "<style>\n",
              "  .colab-df-quickchart {\n",
              "      --bg-color: #E8F0FE;\n",
              "      --fill-color: #1967D2;\n",
              "      --hover-bg-color: #E2EBFA;\n",
              "      --hover-fill-color: #174EA6;\n",
              "      --disabled-fill-color: #AAA;\n",
              "      --disabled-bg-color: #DDD;\n",
              "  }\n",
              "\n",
              "  [theme=dark] .colab-df-quickchart {\n",
              "      --bg-color: #3B4455;\n",
              "      --fill-color: #D2E3FC;\n",
              "      --hover-bg-color: #434B5C;\n",
              "      --hover-fill-color: #FFFFFF;\n",
              "      --disabled-bg-color: #3B4455;\n",
              "      --disabled-fill-color: #666;\n",
              "  }\n",
              "\n",
              "  .colab-df-quickchart {\n",
              "    background-color: var(--bg-color);\n",
              "    border: none;\n",
              "    border-radius: 50%;\n",
              "    cursor: pointer;\n",
              "    display: none;\n",
              "    fill: var(--fill-color);\n",
              "    height: 32px;\n",
              "    padding: 0;\n",
              "    width: 32px;\n",
              "  }\n",
              "\n",
              "  .colab-df-quickchart:hover {\n",
              "    background-color: var(--hover-bg-color);\n",
              "    box-shadow: 0 1px 2px rgba(60, 64, 67, 0.3), 0 1px 3px 1px rgba(60, 64, 67, 0.15);\n",
              "    fill: var(--button-hover-fill-color);\n",
              "  }\n",
              "\n",
              "  .colab-df-quickchart-complete:disabled,\n",
              "  .colab-df-quickchart-complete:disabled:hover {\n",
              "    background-color: var(--disabled-bg-color);\n",
              "    fill: var(--disabled-fill-color);\n",
              "    box-shadow: none;\n",
              "  }\n",
              "\n",
              "  .colab-df-spinner {\n",
              "    border: 2px solid var(--fill-color);\n",
              "    border-color: transparent;\n",
              "    border-bottom-color: var(--fill-color);\n",
              "    animation:\n",
              "      spin 1s steps(1) infinite;\n",
              "  }\n",
              "\n",
              "  @keyframes spin {\n",
              "    0% {\n",
              "      border-color: transparent;\n",
              "      border-bottom-color: var(--fill-color);\n",
              "      border-left-color: var(--fill-color);\n",
              "    }\n",
              "    20% {\n",
              "      border-color: transparent;\n",
              "      border-left-color: var(--fill-color);\n",
              "      border-top-color: var(--fill-color);\n",
              "    }\n",
              "    30% {\n",
              "      border-color: transparent;\n",
              "      border-left-color: var(--fill-color);\n",
              "      border-top-color: var(--fill-color);\n",
              "      border-right-color: var(--fill-color);\n",
              "    }\n",
              "    40% {\n",
              "      border-color: transparent;\n",
              "      border-right-color: var(--fill-color);\n",
              "      border-top-color: var(--fill-color);\n",
              "    }\n",
              "    60% {\n",
              "      border-color: transparent;\n",
              "      border-right-color: var(--fill-color);\n",
              "    }\n",
              "    80% {\n",
              "      border-color: transparent;\n",
              "      border-right-color: var(--fill-color);\n",
              "      border-bottom-color: var(--fill-color);\n",
              "    }\n",
              "    90% {\n",
              "      border-color: transparent;\n",
              "      border-bottom-color: var(--fill-color);\n",
              "    }\n",
              "  }\n",
              "</style>\n",
              "\n",
              "  <script>\n",
              "    async function quickchart(key) {\n",
              "      const quickchartButtonEl =\n",
              "        document.querySelector('#' + key + ' button');\n",
              "      quickchartButtonEl.disabled = true;  // To prevent multiple clicks.\n",
              "      quickchartButtonEl.classList.add('colab-df-spinner');\n",
              "      try {\n",
              "        const charts = await google.colab.kernel.invokeFunction(\n",
              "            'suggestCharts', [key], {});\n",
              "      } catch (error) {\n",
              "        console.error('Error during call to suggestCharts:', error);\n",
              "      }\n",
              "      quickchartButtonEl.classList.remove('colab-df-spinner');\n",
              "      quickchartButtonEl.classList.add('colab-df-quickchart-complete');\n",
              "    }\n",
              "    (() => {\n",
              "      let quickchartButtonEl =\n",
              "        document.querySelector('#df-4e52bfcc-1233-4064-9323-8f926f163926 button');\n",
              "      quickchartButtonEl.style.display =\n",
              "        google.colab.kernel.accessAllowed ? 'block' : 'none';\n",
              "    })();\n",
              "  </script>\n",
              "</div>\n",
              "\n",
              "    </div>\n",
              "  </div>\n"
            ],
            "application/vnd.google.colaboratory.intrinsic+json": {
              "type": "dataframe",
              "summary": "{\n  \"name\": \"df\",\n  \"rows\": 8,\n  \"fields\": [\n    {\n      \"column\": \"housing_median_age\",\n      \"properties\": {\n        \"dtype\": \"number\",\n        \"std\": 7285.8820456483645,\n        \"min\": 1.0,\n        \"max\": 20633.0,\n        \"num_unique_values\": 8,\n        \"samples\": [\n          28.637716279746037,\n          29.0,\n          20633.0\n        ],\n        \"semantic_type\": \"\",\n        \"description\": \"\"\n      }\n    },\n    {\n      \"column\": \"total_rooms\",\n      \"properties\": {\n        \"dtype\": \"number\",\n        \"std\": 7292.693404818537,\n        \"min\": 0.7496141830615064,\n        \"max\": 20633.0,\n        \"num_unique_values\": 8,\n        \"samples\": [\n          7.629209480194028,\n          7.662937850461535,\n          20633.0\n        ],\n        \"semantic_type\": \"\",\n        \"description\": \"\"\n      }\n    },\n    {\n      \"column\": \"total_bedrooms\",\n      \"properties\": {\n        \"dtype\": \"number\",\n        \"std\": 7293.127512993107,\n        \"min\": 0.6931471805599453,\n        \"max\": 20633.0,\n        \"num_unique_values\": 8,\n        \"samples\": [\n          6.054580758579991,\n          6.077642243349034,\n          20633.0\n        ],\n        \"semantic_type\": \"\",\n        \"description\": \"\"\n      }\n    },\n    {\n      \"column\": \"population\",\n      \"properties\": {\n        \"dtype\": \"number\",\n        \"std\": 7292.84585720531,\n        \"min\": 0.7355345421855123,\n        \"max\": 20633.0,\n        \"num_unique_values\": 8,\n        \"samples\": [\n          7.025325127194963,\n          7.062191632286556,\n          20633.0\n        ],\n        \"semantic_type\": \"\",\n        \"description\": \"\"\n      }\n    },\n    {\n      \"column\": \"median_income\",\n      \"properties\": {\n        \"dtype\": \"number\",\n        \"std\": 7294.277392048421,\n        \"min\": 0.09973155445879534,\n        \"max\": 20633.0,\n        \"num_unique_values\": 8,\n        \"samples\": [\n          2.0779386593921485,\n          2.087185434232193,\n          20633.0\n        ],\n        \"semantic_type\": \"\",\n        \"description\": \"\"\n      }\n    },\n    {\n      \"column\": \"median_house_value\",\n      \"properties\": {\n        \"dtype\": \"number\",\n        \"std\": 7291.248399091451,\n        \"min\": 0.5690905036709143,\n        \"max\": 20633.0,\n        \"num_unique_values\": 8,\n        \"samples\": [\n          12.0847430527226,\n          12.09904963758644,\n          20633.0\n        ],\n        \"semantic_type\": \"\",\n        \"description\": \"\"\n      }\n    },\n    {\n      \"column\": \"moisture_level\",\n      \"properties\": {\n        \"dtype\": \"number\",\n        \"std\": 7278.976341264758,\n        \"min\": 0.0,\n        \"max\": 20633.0,\n        \"num_unique_values\": 8,\n        \"samples\": [\n          47.2522173217661,\n          49.0,\n          20633.0\n        ],\n        \"semantic_type\": \"\",\n        \"description\": \"\"\n      }\n    },\n    {\n      \"column\": \"median_floor_count\",\n      \"properties\": {\n        \"dtype\": \"number\",\n        \"std\": 7294.443295272587,\n        \"min\": 0.2192150253736249,\n        \"max\": 20633.0,\n        \"num_unique_values\": 8,\n        \"samples\": [\n          1.312184364852421,\n          1.29,\n          20633.0\n        ],\n        \"semantic_type\": \"\",\n        \"description\": \"\"\n      }\n    },\n    {\n      \"column\": \"target\",\n      \"properties\": {\n        \"dtype\": \"number\",\n        \"std\": 7294.782930869367,\n        \"min\": 0.0,\n        \"max\": 20633.0,\n        \"num_unique_values\": 5,\n        \"samples\": [\n          0.23981001308583338,\n          1.0,\n          0.42697775885333156\n        ],\n        \"semantic_type\": \"\",\n        \"description\": \"\"\n      }\n    },\n    {\n      \"column\": \"population_density\",\n      \"properties\": {\n        \"dtype\": \"number\",\n        \"std\": 7276.068220770275,\n        \"min\": 0.018108651911468814,\n        \"max\": 20633.0,\n        \"num_unique_values\": 8,\n        \"samples\": [\n          0.6195686297319879,\n          0.5160142348754448,\n          20633.0\n        ],\n        \"semantic_type\": \"\",\n        \"description\": \"\"\n      }\n    },\n    {\n      \"column\": \"bedroom_ratio\",\n      \"properties\": {\n        \"dtype\": \"number\",\n        \"std\": 7294.766633471747,\n        \"min\": 0.057832059727574915,\n        \"max\": 20633.0,\n        \"num_unique_values\": 8,\n        \"samples\": [\n          0.2130526959344351,\n          0.2032640949554896,\n          20633.0\n        ],\n        \"semantic_type\": \"\",\n        \"description\": \"\"\n      }\n    }\n  ]\n}"
            }
          },
          "metadata": {},
          "execution_count": 1480
        }
      ]
    },
    {
      "cell_type": "markdown",
      "source": [
        "architectural_style"
      ],
      "metadata": {
        "id": "YMjg8rtcXmko"
      }
    },
    {
      "cell_type": "code",
      "source": [
        "df = pd.get_dummies(df, columns=['architectural_style'], drop_first=False)\n",
        "bool_columns = df.select_dtypes(include=['bool']).columns\n",
        "df[bool_columns] = df[bool_columns].astype(int)"
      ],
      "metadata": {
        "id": "g9kicaFJJCrc"
      },
      "execution_count": null,
      "outputs": []
    },
    {
      "cell_type": "markdown",
      "source": [
        "# Feature Selection"
      ],
      "metadata": {
        "id": "Q8Pu5hT7KPOy"
      }
    },
    {
      "cell_type": "code",
      "source": [
        "X = df.drop(['target'], axis=1)\n",
        "y = df['target']"
      ],
      "metadata": {
        "id": "SfYkzOaodDuG"
      },
      "execution_count": null,
      "outputs": []
    },
    {
      "cell_type": "code",
      "source": [
        "from sklearn.feature_selection import RFE\n",
        "from sklearn.tree import DecisionTreeClassifier\n",
        "\n",
        "model = DecisionTreeClassifier()\n",
        "rfe = RFE(estimator=model)\n",
        "X_selected = rfe.fit_transform(X, y)\n",
        "\n",
        "# Getting the selected features\n",
        "selected_indices = rfe.get_support(indices=True)\n",
        "tested_features = rfe.feature_names_in_\n",
        "selected_features = tested_features[selected_indices]\n",
        "print(f\"Chosen features: {selected_features}\")"
      ],
      "metadata": {
        "colab": {
          "base_uri": "https://localhost:8080/"
        },
        "id": "_WSVOQM5iG9k",
        "outputId": "8d8cfd7f-f9d7-4596-826c-5cf2fde19c13"
      },
      "execution_count": null,
      "outputs": [
        {
          "output_type": "stream",
          "name": "stdout",
          "text": [
            "Chosen features: ['housing_median_age' 'total_bedrooms' 'population' 'median_house_value'\n",
            " 'moisture_level' 'median_floor_count' 'population_density'\n",
            " 'bedroom_ratio']\n"
          ]
        }
      ]
    },
    {
      "cell_type": "markdown",
      "source": [
        "# Train Test Split"
      ],
      "metadata": {
        "id": "G4KmjPBrdEZ2"
      }
    },
    {
      "cell_type": "code",
      "source": [
        "X = X[selected_features]\n",
        "# Splitting the data into training and testing sets\n",
        "X_train, X_test, y_train, y_test = train_test_split(X, y, test_size=0.2, random_state=42)\n",
        "\n",
        "# Using StandardScaler to Standardize the numerical features\n",
        "scaler = StandardScaler()\n",
        "X_train_scaled = X_train.copy()\n",
        "X_test_scaled = X_test.copy()\n",
        "numerical_vars = ['housing_median_age', 'total_rooms', 'total_bedrooms', 'population',\n",
        "                  'median_income', 'median_house_value', 'moisture_level', 'median_floor_count',\n",
        "                  'rooms_per_household', 'population_density', 'bedroom_ratio']\n",
        "X_train_scaled = scaler.fit_transform(X_train)\n",
        "X_test_scaled = scaler.transform(X_test)"
      ],
      "metadata": {
        "id": "CEQWYF_srO4k"
      },
      "execution_count": null,
      "outputs": []
    },
    {
      "cell_type": "code",
      "source": [
        "smote = SMOTE(random_state=42)\n",
        "X_train_resampled, y_train_resampled = smote.fit_resample(X_train_scaled, y_train)\n",
        "\n",
        "#The models performed slightly worse with SMOTE than without. I instead used class_weight='balanced' to deal with imbalanced data for Random Forest."
      ],
      "metadata": {
        "id": "8C0lhHWsxzhw"
      },
      "execution_count": null,
      "outputs": []
    },
    {
      "cell_type": "markdown",
      "source": [
        "# Random Forest Model"
      ],
      "metadata": {
        "id": "CwU0Jzrtt2zI"
      }
    },
    {
      "cell_type": "code",
      "source": [
        "rf = RandomForestClassifier(random_state=42)\n",
        "\n",
        "# Defining the distribution of parameters (sampling range)\n",
        "params = {\n",
        "    'n_estimators': randint(100, 300),\n",
        "    'max_depth': [10, 20, None],\n",
        "    'min_samples_split': randint(2, 10),\n",
        "}\n",
        "\n",
        "random_search = RandomizedSearchCV(estimator=rf, param_distributions=params,\n",
        "                                   n_iter=10, cv=3, scoring='f1_micro', verbose=2, n_jobs=-1, random_state=42)\n",
        "\n",
        "#Fitting the random search on the training data\n",
        "random_search.fit(X_train_scaled, y_train)\n",
        "\n",
        "#Getting the best estimator and parameters\n",
        "best_rf = random_search.best_estimator_\n",
        "print(\"Best parameters:\", random_search.best_params_)"
      ],
      "metadata": {
        "colab": {
          "base_uri": "https://localhost:8080/"
        },
        "id": "0VXUWDvEpwka",
        "outputId": "5f19a00b-08e7-4649-8c8f-f3029d2c28a0"
      },
      "execution_count": null,
      "outputs": [
        {
          "output_type": "stream",
          "name": "stdout",
          "text": [
            "Fitting 3 folds for each of 10 candidates, totalling 30 fits\n",
            "Best parameters: {'max_depth': None, 'min_samples_split': 5, 'n_estimators': 192}\n"
          ]
        }
      ]
    },
    {
      "cell_type": "code",
      "source": [
        "rff = RandomForestClassifier(max_depth=20, min_samples_split=9, n_estimators=257,\n",
        "                             random_state=42, class_weight='balanced') #class_weight='balanced' to handle imbalanced data\n",
        "rff.fit(X_train_scaled, y_train)\n",
        "y_pred = rff.predict(X_test_scaled)\n",
        "print(\"Accuracy:\", accuracy_score(y_test, y_pred))\n",
        "print(\"Recall:\",recall_score(y_test, y_pred))\n",
        "print(\"F1 score:\",f1_score(y_test, y_pred))\n",
        "\n",
        "report = classification_report(y_test, y_pred)\n",
        "print(report)"
      ],
      "metadata": {
        "colab": {
          "base_uri": "https://localhost:8080/"
        },
        "id": "5SCNHsmXO0Yl",
        "outputId": "34687233-42a0-4238-be91-e57c285e23e4"
      },
      "execution_count": null,
      "outputs": [
        {
          "output_type": "stream",
          "name": "stdout",
          "text": [
            "Accuracy: 0.9210079961230918\n",
            "Recall: 0.731629392971246\n",
            "F1 score: 0.808235294117647\n",
            "              precision    recall  f1-score   support\n",
            "\n",
            "         0.0       0.93      0.98      0.95      3188\n",
            "         1.0       0.90      0.73      0.81       939\n",
            "\n",
            "    accuracy                           0.92      4127\n",
            "   macro avg       0.91      0.85      0.88      4127\n",
            "weighted avg       0.92      0.92      0.92      4127\n",
            "\n"
          ]
        }
      ]
    },
    {
      "cell_type": "markdown",
      "source": [
        "# Support Vector Classifier"
      ],
      "metadata": {
        "id": "9kRnqwFSzsCT"
      }
    },
    {
      "cell_type": "code",
      "source": [
        "#Creating a Support Vector Classifier\n",
        "svc = SVC(random_state=42)\n",
        "\n",
        "param_distributions = {\n",
        "    'C': uniform(0.1, 10),\n",
        "    'gamma': ['scale', 'auto'],\n",
        "    'kernel': ['linear', 'rbf'],\n",
        "}\n",
        "\n",
        "random_search = RandomizedSearchCV(estimator=svc, param_distributions=param_distributions, n_iter=10, cv=3, scoring='f1_macro', verbose=2, n_jobs=-1, random_state=42)\n",
        "\n",
        "#Fitting the Randomized Search on the training data\n",
        "random_search.fit(X_train_scaled, y_train)\n",
        "\n",
        "best_svc_model = random_search.best_estimator_\n",
        "print(\"Best parameters found:\", random_search.best_params_)"
      ],
      "metadata": {
        "colab": {
          "base_uri": "https://localhost:8080/"
        },
        "id": "xgztsTQHQACA",
        "outputId": "6a92134b-6e7e-4700-f515-8faafe00c5b2"
      },
      "execution_count": null,
      "outputs": [
        {
          "output_type": "stream",
          "name": "stdout",
          "text": [
            "Fitting 3 folds for each of 10 candidates, totalling 30 fits\n",
            "Best parameters found: {'C': 8.424426408004217, 'gamma': 'auto', 'kernel': 'rbf'}\n"
          ]
        }
      ]
    },
    {
      "cell_type": "code",
      "source": [
        "y_pred = best_svc_model.predict(X_test_scaled)\n",
        "print(\"Accuracy:\", accuracy_score(y_test, y_pred))\n",
        "print(\"Recall:\",recall_score(y_test, y_pred))\n",
        "print(\"F1 score:\",f1_score(y_test, y_pred))\n",
        "\n",
        "report = classification_report(y_test, y_pred)\n",
        "print(report)"
      ],
      "metadata": {
        "id": "cloRrdE9VfO5",
        "colab": {
          "base_uri": "https://localhost:8080/"
        },
        "outputId": "9dd171ad-48fc-4710-e2c9-30ac76edc97c"
      },
      "execution_count": null,
      "outputs": [
        {
          "output_type": "stream",
          "name": "stdout",
          "text": [
            "Accuracy: 0.9137387933123334\n",
            "Recall: 0.6677316293929713\n",
            "F1 score: 0.7788819875776398\n",
            "              precision    recall  f1-score   support\n",
            "\n",
            "         0.0       0.91      0.99      0.95      3188\n",
            "         1.0       0.93      0.67      0.78       939\n",
            "\n",
            "    accuracy                           0.91      4127\n",
            "   macro avg       0.92      0.83      0.86      4127\n",
            "weighted avg       0.92      0.91      0.91      4127\n",
            "\n"
          ]
        }
      ]
    },
    {
      "cell_type": "markdown",
      "source": [
        "# XGBoost"
      ],
      "metadata": {
        "id": "RqBMoZ4t2Wbf"
      }
    },
    {
      "cell_type": "code",
      "source": [
        "xgb = XGBClassifier(random_state=42)\n",
        "\n",
        "params = {\n",
        "    'n_estimators': randint(50, 300),\n",
        "    'learning_rate': uniform(0.01, 0.2),\n",
        "    'max_depth': randint(3, 10),\n",
        "    'subsample': uniform(0.7, 0.3),\n",
        "    'colsample_bytree': uniform(0.7, 0.3),\n",
        "}\n",
        "\n",
        "\n",
        "random_search = RandomizedSearchCV(estimator=xgb, param_distributions=params, n_iter=10, cv=3, scoring='f1_micro',\n",
        "                                   verbose=2, n_jobs=-1, random_state=42)\n",
        "\n",
        "#Fitting the Randomized Search on the training data\n",
        "random_search.fit(X_train_scaled, y_train)\n",
        "\n",
        "#Getting the best XGBoost model\n",
        "best_xgb_model = random_search.best_estimator_\n",
        "print(\"Best parameters found:\", random_search.best_params_)\n",
        "\n",
        "#Making the predictions\n",
        "y_pred = best_xgb_model.predict(X_test_scaled)\n",
        "\n",
        "print(\"Accuracy:\", accuracy_score(y_test, y_pred))\n",
        "print(\"Recall:\",recall_score(y_test, y_pred))\n",
        "print(\"F1 score:\",f1_score(y_test, y_pred))\n",
        "\n",
        "report = classification_report(y_test, y_pred)\n",
        "print(report)\n"
      ],
      "metadata": {
        "id": "rSrsKipU1OG8",
        "colab": {
          "base_uri": "https://localhost:8080/"
        },
        "outputId": "d33a3f60-df96-44e7-8d16-79378569ab82"
      },
      "execution_count": null,
      "outputs": [
        {
          "output_type": "stream",
          "name": "stdout",
          "text": [
            "Fitting 3 folds for each of 10 candidates, totalling 30 fits\n",
            "Best parameters found: {'colsample_bytree': 0.9497327922401264, 'learning_rate': 0.052467822135655234, 'max_depth': 6, 'n_estimators': 70, 'subsample': 0.8852444528883149}\n",
            "Accuracy: 0.9263387448509813\n",
            "Recall: 0.6890308839190629\n",
            "F1 score: 0.8097622027534419\n",
            "              precision    recall  f1-score   support\n",
            "\n",
            "         0.0       0.92      1.00      0.95      3188\n",
            "         1.0       0.98      0.69      0.81       939\n",
            "\n",
            "    accuracy                           0.93      4127\n",
            "   macro avg       0.95      0.84      0.88      4127\n",
            "weighted avg       0.93      0.93      0.92      4127\n",
            "\n"
          ]
        }
      ]
    },
    {
      "cell_type": "markdown",
      "source": [
        "In the end, XGB has performed the best out of the 3 classifiers, with an accuracy of 92.6% and an F1 score of 81%."
      ],
      "metadata": {
        "id": "82C7mJlXWtqJ"
      }
    }
  ]
}